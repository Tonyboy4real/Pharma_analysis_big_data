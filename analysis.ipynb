{
  "nbformat": 4,
  "nbformat_minor": 0,
  "metadata": {
    "colab": {
      "name": "analysis.ipynb",
      "provenance": [],
      "toc_visible": true
    },
    "kernelspec": {
      "name": "python3",
      "display_name": "Python 3"
    }
  },
  "cells": [
    {
      "cell_type": "markdown",
      "metadata": {
        "id": "tYrXu9dd6VvO"
      },
      "source": [
        "1. Идея\n",
        "корреляция между продажами и результатами. Если все верно время презентации больше 20 секунд , тогда мы сравниваем человеческий KPI.\n",
        "1) подсчитать корреляцию\n",
        "1.1 удалить нан\n",
        "2)человек- подсчет сколько у него продаж качественных.\n",
        "3) создать скрипт, вбиваем имя человека, ищутся все его заказы, из них вычитаются \"сфабрикованные\" из чистых заказов получаем его kpi.\n",
        "2. Использовать долготу и широту( если данные совпадают)\n",
        "3. Написать код, если человек получил все заказы на одной долготе и широте- увольнение\n"
      ]
    },
    {
      "cell_type": "code",
      "metadata": {
        "id": "3u5EiOTEKHKa",
        "outputId": "16c3bb6a-0f68-4953-de1c-33032f7e9149",
        "colab": {
          "base_uri": "https://localhost:8080/",
          "height": 340
        }
      },
      "source": [
        "import pandas as pd\n",
        "import numpy as np\n",
        "from matplotlib import pyplot as plt\n",
        "pharma=pd.read_excel('/content/pharma xlsx.xlsx')\n"
      ],
      "execution_count": null,
      "outputs": [
        {
          "output_type": "error",
          "ename": "KeyboardInterrupt",
          "evalue": "ignored",
          "traceback": [
            "\u001b[0;31m---------------------------------------------------------------------------\u001b[0m",
            "\u001b[0;31mKeyboardInterrupt\u001b[0m                         Traceback (most recent call last)",
            "\u001b[0;32m<ipython-input-70-394cf9688c24>\u001b[0m in \u001b[0;36m<module>\u001b[0;34m()\u001b[0m\n\u001b[1;32m      2\u001b[0m \u001b[0;32mimport\u001b[0m \u001b[0mnumpy\u001b[0m \u001b[0;32mas\u001b[0m \u001b[0mnp\u001b[0m\u001b[0;34m\u001b[0m\u001b[0;34m\u001b[0m\u001b[0m\n\u001b[1;32m      3\u001b[0m \u001b[0;32mfrom\u001b[0m \u001b[0mmatplotlib\u001b[0m \u001b[0;32mimport\u001b[0m \u001b[0mpyplot\u001b[0m \u001b[0;32mas\u001b[0m \u001b[0mplt\u001b[0m\u001b[0;34m\u001b[0m\u001b[0;34m\u001b[0m\u001b[0m\n\u001b[0;32m----> 4\u001b[0;31m \u001b[0mpharma\u001b[0m\u001b[0;34m=\u001b[0m\u001b[0mpd\u001b[0m\u001b[0;34m.\u001b[0m\u001b[0mread_excel\u001b[0m\u001b[0;34m(\u001b[0m\u001b[0;34m'/content/pharma xlsx.xlsx'\u001b[0m\u001b[0;34m)\u001b[0m\u001b[0;34m\u001b[0m\u001b[0;34m\u001b[0m\u001b[0m\n\u001b[0m",
            "\u001b[0;32m/usr/local/lib/python3.6/dist-packages/pandas/io/excel/_base.py\u001b[0m in \u001b[0;36mread_excel\u001b[0;34m(io, sheet_name, header, names, index_col, usecols, squeeze, dtype, engine, converters, true_values, false_values, skiprows, nrows, na_values, keep_default_na, verbose, parse_dates, date_parser, thousands, comment, skipfooter, convert_float, mangle_dupe_cols, **kwds)\u001b[0m\n\u001b[1;32m    302\u001b[0m \u001b[0;34m\u001b[0m\u001b[0m\n\u001b[1;32m    303\u001b[0m     \u001b[0;32mif\u001b[0m \u001b[0;32mnot\u001b[0m \u001b[0misinstance\u001b[0m\u001b[0;34m(\u001b[0m\u001b[0mio\u001b[0m\u001b[0;34m,\u001b[0m \u001b[0mExcelFile\u001b[0m\u001b[0;34m)\u001b[0m\u001b[0;34m:\u001b[0m\u001b[0;34m\u001b[0m\u001b[0;34m\u001b[0m\u001b[0m\n\u001b[0;32m--> 304\u001b[0;31m         \u001b[0mio\u001b[0m \u001b[0;34m=\u001b[0m \u001b[0mExcelFile\u001b[0m\u001b[0;34m(\u001b[0m\u001b[0mio\u001b[0m\u001b[0;34m,\u001b[0m \u001b[0mengine\u001b[0m\u001b[0;34m=\u001b[0m\u001b[0mengine\u001b[0m\u001b[0;34m)\u001b[0m\u001b[0;34m\u001b[0m\u001b[0;34m\u001b[0m\u001b[0m\n\u001b[0m\u001b[1;32m    305\u001b[0m     \u001b[0;32melif\u001b[0m \u001b[0mengine\u001b[0m \u001b[0;32mand\u001b[0m \u001b[0mengine\u001b[0m \u001b[0;34m!=\u001b[0m \u001b[0mio\u001b[0m\u001b[0;34m.\u001b[0m\u001b[0mengine\u001b[0m\u001b[0;34m:\u001b[0m\u001b[0;34m\u001b[0m\u001b[0;34m\u001b[0m\u001b[0m\n\u001b[1;32m    306\u001b[0m         raise ValueError(\n",
            "\u001b[0;32m/usr/local/lib/python3.6/dist-packages/pandas/io/excel/_base.py\u001b[0m in \u001b[0;36m__init__\u001b[0;34m(self, io, engine)\u001b[0m\n\u001b[1;32m    822\u001b[0m         \u001b[0mself\u001b[0m\u001b[0;34m.\u001b[0m\u001b[0m_io\u001b[0m \u001b[0;34m=\u001b[0m \u001b[0mstringify_path\u001b[0m\u001b[0;34m(\u001b[0m\u001b[0mio\u001b[0m\u001b[0;34m)\u001b[0m\u001b[0;34m\u001b[0m\u001b[0;34m\u001b[0m\u001b[0m\n\u001b[1;32m    823\u001b[0m \u001b[0;34m\u001b[0m\u001b[0m\n\u001b[0;32m--> 824\u001b[0;31m         \u001b[0mself\u001b[0m\u001b[0;34m.\u001b[0m\u001b[0m_reader\u001b[0m \u001b[0;34m=\u001b[0m \u001b[0mself\u001b[0m\u001b[0;34m.\u001b[0m\u001b[0m_engines\u001b[0m\u001b[0;34m[\u001b[0m\u001b[0mengine\u001b[0m\u001b[0;34m]\u001b[0m\u001b[0;34m(\u001b[0m\u001b[0mself\u001b[0m\u001b[0;34m.\u001b[0m\u001b[0m_io\u001b[0m\u001b[0;34m)\u001b[0m\u001b[0;34m\u001b[0m\u001b[0;34m\u001b[0m\u001b[0m\n\u001b[0m\u001b[1;32m    825\u001b[0m \u001b[0;34m\u001b[0m\u001b[0m\n\u001b[1;32m    826\u001b[0m     \u001b[0;32mdef\u001b[0m \u001b[0m__fspath__\u001b[0m\u001b[0;34m(\u001b[0m\u001b[0mself\u001b[0m\u001b[0;34m)\u001b[0m\u001b[0;34m:\u001b[0m\u001b[0;34m\u001b[0m\u001b[0;34m\u001b[0m\u001b[0m\n",
            "\u001b[0;32m/usr/local/lib/python3.6/dist-packages/pandas/io/excel/_xlrd.py\u001b[0m in \u001b[0;36m__init__\u001b[0;34m(self, filepath_or_buffer)\u001b[0m\n\u001b[1;32m     19\u001b[0m         \u001b[0merr_msg\u001b[0m \u001b[0;34m=\u001b[0m \u001b[0;34m\"Install xlrd >= 1.0.0 for Excel support\"\u001b[0m\u001b[0;34m\u001b[0m\u001b[0;34m\u001b[0m\u001b[0m\n\u001b[1;32m     20\u001b[0m         \u001b[0mimport_optional_dependency\u001b[0m\u001b[0;34m(\u001b[0m\u001b[0;34m\"xlrd\"\u001b[0m\u001b[0;34m,\u001b[0m \u001b[0mextra\u001b[0m\u001b[0;34m=\u001b[0m\u001b[0merr_msg\u001b[0m\u001b[0;34m)\u001b[0m\u001b[0;34m\u001b[0m\u001b[0;34m\u001b[0m\u001b[0m\n\u001b[0;32m---> 21\u001b[0;31m         \u001b[0msuper\u001b[0m\u001b[0;34m(\u001b[0m\u001b[0;34m)\u001b[0m\u001b[0;34m.\u001b[0m\u001b[0m__init__\u001b[0m\u001b[0;34m(\u001b[0m\u001b[0mfilepath_or_buffer\u001b[0m\u001b[0;34m)\u001b[0m\u001b[0;34m\u001b[0m\u001b[0;34m\u001b[0m\u001b[0m\n\u001b[0m\u001b[1;32m     22\u001b[0m \u001b[0;34m\u001b[0m\u001b[0m\n\u001b[1;32m     23\u001b[0m     \u001b[0;34m@\u001b[0m\u001b[0mproperty\u001b[0m\u001b[0;34m\u001b[0m\u001b[0;34m\u001b[0m\u001b[0m\n",
            "\u001b[0;32m/usr/local/lib/python3.6/dist-packages/pandas/io/excel/_base.py\u001b[0m in \u001b[0;36m__init__\u001b[0;34m(self, filepath_or_buffer)\u001b[0m\n\u001b[1;32m    351\u001b[0m             \u001b[0mself\u001b[0m\u001b[0;34m.\u001b[0m\u001b[0mbook\u001b[0m \u001b[0;34m=\u001b[0m \u001b[0mself\u001b[0m\u001b[0;34m.\u001b[0m\u001b[0mload_workbook\u001b[0m\u001b[0;34m(\u001b[0m\u001b[0mfilepath_or_buffer\u001b[0m\u001b[0;34m)\u001b[0m\u001b[0;34m\u001b[0m\u001b[0;34m\u001b[0m\u001b[0m\n\u001b[1;32m    352\u001b[0m         \u001b[0;32melif\u001b[0m \u001b[0misinstance\u001b[0m\u001b[0;34m(\u001b[0m\u001b[0mfilepath_or_buffer\u001b[0m\u001b[0;34m,\u001b[0m \u001b[0mstr\u001b[0m\u001b[0;34m)\u001b[0m\u001b[0;34m:\u001b[0m\u001b[0;34m\u001b[0m\u001b[0;34m\u001b[0m\u001b[0m\n\u001b[0;32m--> 353\u001b[0;31m             \u001b[0mself\u001b[0m\u001b[0;34m.\u001b[0m\u001b[0mbook\u001b[0m \u001b[0;34m=\u001b[0m \u001b[0mself\u001b[0m\u001b[0;34m.\u001b[0m\u001b[0mload_workbook\u001b[0m\u001b[0;34m(\u001b[0m\u001b[0mfilepath_or_buffer\u001b[0m\u001b[0;34m)\u001b[0m\u001b[0;34m\u001b[0m\u001b[0;34m\u001b[0m\u001b[0m\n\u001b[0m\u001b[1;32m    354\u001b[0m         \u001b[0;32melif\u001b[0m \u001b[0misinstance\u001b[0m\u001b[0;34m(\u001b[0m\u001b[0mfilepath_or_buffer\u001b[0m\u001b[0;34m,\u001b[0m \u001b[0mbytes\u001b[0m\u001b[0;34m)\u001b[0m\u001b[0;34m:\u001b[0m\u001b[0;34m\u001b[0m\u001b[0;34m\u001b[0m\u001b[0m\n\u001b[1;32m    355\u001b[0m             \u001b[0mself\u001b[0m\u001b[0;34m.\u001b[0m\u001b[0mbook\u001b[0m \u001b[0;34m=\u001b[0m \u001b[0mself\u001b[0m\u001b[0;34m.\u001b[0m\u001b[0mload_workbook\u001b[0m\u001b[0;34m(\u001b[0m\u001b[0mBytesIO\u001b[0m\u001b[0;34m(\u001b[0m\u001b[0mfilepath_or_buffer\u001b[0m\u001b[0;34m)\u001b[0m\u001b[0;34m)\u001b[0m\u001b[0;34m\u001b[0m\u001b[0;34m\u001b[0m\u001b[0m\n",
            "\u001b[0;32m/usr/local/lib/python3.6/dist-packages/pandas/io/excel/_xlrd.py\u001b[0m in \u001b[0;36mload_workbook\u001b[0;34m(self, filepath_or_buffer)\u001b[0m\n\u001b[1;32m     34\u001b[0m             \u001b[0;32mreturn\u001b[0m \u001b[0mopen_workbook\u001b[0m\u001b[0;34m(\u001b[0m\u001b[0mfile_contents\u001b[0m\u001b[0;34m=\u001b[0m\u001b[0mdata\u001b[0m\u001b[0;34m)\u001b[0m\u001b[0;34m\u001b[0m\u001b[0;34m\u001b[0m\u001b[0m\n\u001b[1;32m     35\u001b[0m         \u001b[0;32melse\u001b[0m\u001b[0;34m:\u001b[0m\u001b[0;34m\u001b[0m\u001b[0;34m\u001b[0m\u001b[0m\n\u001b[0;32m---> 36\u001b[0;31m             \u001b[0;32mreturn\u001b[0m \u001b[0mopen_workbook\u001b[0m\u001b[0;34m(\u001b[0m\u001b[0mfilepath_or_buffer\u001b[0m\u001b[0;34m)\u001b[0m\u001b[0;34m\u001b[0m\u001b[0;34m\u001b[0m\u001b[0m\n\u001b[0m\u001b[1;32m     37\u001b[0m \u001b[0;34m\u001b[0m\u001b[0m\n\u001b[1;32m     38\u001b[0m     \u001b[0;34m@\u001b[0m\u001b[0mproperty\u001b[0m\u001b[0;34m\u001b[0m\u001b[0;34m\u001b[0m\u001b[0m\n",
            "\u001b[0;32m/usr/local/lib/python3.6/dist-packages/xlrd/__init__.py\u001b[0m in \u001b[0;36mopen_workbook\u001b[0;34m(filename, logfile, verbosity, use_mmap, file_contents, encoding_override, formatting_info, on_demand, ragged_rows)\u001b[0m\n\u001b[1;32m    141\u001b[0m                 \u001b[0mformatting_info\u001b[0m\u001b[0;34m=\u001b[0m\u001b[0mformatting_info\u001b[0m\u001b[0;34m,\u001b[0m\u001b[0;34m\u001b[0m\u001b[0;34m\u001b[0m\u001b[0m\n\u001b[1;32m    142\u001b[0m                 \u001b[0mon_demand\u001b[0m\u001b[0;34m=\u001b[0m\u001b[0mon_demand\u001b[0m\u001b[0;34m,\u001b[0m\u001b[0;34m\u001b[0m\u001b[0;34m\u001b[0m\u001b[0m\n\u001b[0;32m--> 143\u001b[0;31m                 \u001b[0mragged_rows\u001b[0m\u001b[0;34m=\u001b[0m\u001b[0mragged_rows\u001b[0m\u001b[0;34m,\u001b[0m\u001b[0;34m\u001b[0m\u001b[0;34m\u001b[0m\u001b[0m\n\u001b[0m\u001b[1;32m    144\u001b[0m                 )\n\u001b[1;32m    145\u001b[0m             \u001b[0;32mreturn\u001b[0m \u001b[0mbk\u001b[0m\u001b[0;34m\u001b[0m\u001b[0;34m\u001b[0m\u001b[0m\n",
            "\u001b[0;32m/usr/local/lib/python3.6/dist-packages/xlrd/xlsx.py\u001b[0m in \u001b[0;36mopen_workbook_2007_xml\u001b[0;34m(zf, component_names, logfile, verbosity, use_mmap, formatting_info, on_demand, ragged_rows)\u001b[0m\n\u001b[1;32m    835\u001b[0m         \u001b[0mx12sheet\u001b[0m \u001b[0;34m=\u001b[0m \u001b[0mX12Sheet\u001b[0m\u001b[0;34m(\u001b[0m\u001b[0msheet\u001b[0m\u001b[0;34m,\u001b[0m \u001b[0mlogfile\u001b[0m\u001b[0;34m,\u001b[0m \u001b[0mverbosity\u001b[0m\u001b[0;34m)\u001b[0m\u001b[0;34m\u001b[0m\u001b[0;34m\u001b[0m\u001b[0m\n\u001b[1;32m    836\u001b[0m         \u001b[0mheading\u001b[0m \u001b[0;34m=\u001b[0m \u001b[0;34m\"Sheet %r (sheetx=%d) from %r\"\u001b[0m \u001b[0;34m%\u001b[0m \u001b[0;34m(\u001b[0m\u001b[0msheet\u001b[0m\u001b[0;34m.\u001b[0m\u001b[0mname\u001b[0m\u001b[0;34m,\u001b[0m \u001b[0msheetx\u001b[0m\u001b[0;34m,\u001b[0m \u001b[0mfname\u001b[0m\u001b[0;34m)\u001b[0m\u001b[0;34m\u001b[0m\u001b[0;34m\u001b[0m\u001b[0m\n\u001b[0;32m--> 837\u001b[0;31m         \u001b[0mx12sheet\u001b[0m\u001b[0;34m.\u001b[0m\u001b[0mprocess_stream\u001b[0m\u001b[0;34m(\u001b[0m\u001b[0mzflo\u001b[0m\u001b[0;34m,\u001b[0m \u001b[0mheading\u001b[0m\u001b[0;34m)\u001b[0m\u001b[0;34m\u001b[0m\u001b[0;34m\u001b[0m\u001b[0m\n\u001b[0m\u001b[1;32m    838\u001b[0m         \u001b[0;32mdel\u001b[0m \u001b[0mzflo\u001b[0m\u001b[0;34m\u001b[0m\u001b[0;34m\u001b[0m\u001b[0m\n\u001b[1;32m    839\u001b[0m \u001b[0;34m\u001b[0m\u001b[0m\n",
            "\u001b[0;32m/usr/local/lib/python3.6/dist-packages/xlrd/xlsx.py\u001b[0m in \u001b[0;36mown_process_stream\u001b[0;34m(self, stream, heading)\u001b[0m\n\u001b[1;32m    544\u001b[0m         \u001b[0mrow_tag\u001b[0m \u001b[0;34m=\u001b[0m \u001b[0mU_SSML12\u001b[0m \u001b[0;34m+\u001b[0m \u001b[0;34m\"row\"\u001b[0m\u001b[0;34m\u001b[0m\u001b[0;34m\u001b[0m\u001b[0m\n\u001b[1;32m    545\u001b[0m         \u001b[0mself_do_row\u001b[0m \u001b[0;34m=\u001b[0m \u001b[0mself\u001b[0m\u001b[0;34m.\u001b[0m\u001b[0mdo_row\u001b[0m\u001b[0;34m\u001b[0m\u001b[0;34m\u001b[0m\u001b[0m\n\u001b[0;32m--> 546\u001b[0;31m         \u001b[0;32mfor\u001b[0m \u001b[0mevent\u001b[0m\u001b[0;34m,\u001b[0m \u001b[0melem\u001b[0m \u001b[0;32min\u001b[0m \u001b[0mET\u001b[0m\u001b[0;34m.\u001b[0m\u001b[0miterparse\u001b[0m\u001b[0;34m(\u001b[0m\u001b[0mstream\u001b[0m\u001b[0;34m)\u001b[0m\u001b[0;34m:\u001b[0m\u001b[0;34m\u001b[0m\u001b[0;34m\u001b[0m\u001b[0m\n\u001b[0m\u001b[1;32m    547\u001b[0m             \u001b[0;32mif\u001b[0m \u001b[0melem\u001b[0m\u001b[0;34m.\u001b[0m\u001b[0mtag\u001b[0m \u001b[0;34m==\u001b[0m \u001b[0mrow_tag\u001b[0m\u001b[0;34m:\u001b[0m\u001b[0;34m\u001b[0m\u001b[0;34m\u001b[0m\u001b[0m\n\u001b[1;32m    548\u001b[0m                 \u001b[0mself_do_row\u001b[0m\u001b[0;34m(\u001b[0m\u001b[0melem\u001b[0m\u001b[0;34m)\u001b[0m\u001b[0;34m\u001b[0m\u001b[0;34m\u001b[0m\u001b[0m\n",
            "\u001b[0;32m/usr/lib/python3.6/xml/etree/ElementTree.py\u001b[0m in \u001b[0;36miterator\u001b[0;34m()\u001b[0m\n\u001b[1;32m   1224\u001b[0m                 \u001b[0;32mif\u001b[0m \u001b[0;32mnot\u001b[0m \u001b[0mdata\u001b[0m\u001b[0;34m:\u001b[0m\u001b[0;34m\u001b[0m\u001b[0;34m\u001b[0m\u001b[0m\n\u001b[1;32m   1225\u001b[0m                     \u001b[0;32mbreak\u001b[0m\u001b[0;34m\u001b[0m\u001b[0;34m\u001b[0m\u001b[0m\n\u001b[0;32m-> 1226\u001b[0;31m                 \u001b[0mpullparser\u001b[0m\u001b[0;34m.\u001b[0m\u001b[0mfeed\u001b[0m\u001b[0;34m(\u001b[0m\u001b[0mdata\u001b[0m\u001b[0;34m)\u001b[0m\u001b[0;34m\u001b[0m\u001b[0;34m\u001b[0m\u001b[0m\n\u001b[0m\u001b[1;32m   1227\u001b[0m             \u001b[0mroot\u001b[0m \u001b[0;34m=\u001b[0m \u001b[0mpullparser\u001b[0m\u001b[0;34m.\u001b[0m\u001b[0m_close_and_return_root\u001b[0m\u001b[0;34m(\u001b[0m\u001b[0;34m)\u001b[0m\u001b[0;34m\u001b[0m\u001b[0;34m\u001b[0m\u001b[0m\n\u001b[1;32m   1228\u001b[0m             \u001b[0;32myield\u001b[0m \u001b[0;32mfrom\u001b[0m \u001b[0mpullparser\u001b[0m\u001b[0;34m.\u001b[0m\u001b[0mread_events\u001b[0m\u001b[0;34m(\u001b[0m\u001b[0;34m)\u001b[0m\u001b[0;34m\u001b[0m\u001b[0;34m\u001b[0m\u001b[0m\n",
            "\u001b[0;32m/usr/lib/python3.6/xml/etree/ElementTree.py\u001b[0m in \u001b[0;36mfeed\u001b[0;34m(self, data)\u001b[0m\n\u001b[1;32m   1266\u001b[0m         \u001b[0;32mif\u001b[0m \u001b[0mdata\u001b[0m\u001b[0;34m:\u001b[0m\u001b[0;34m\u001b[0m\u001b[0;34m\u001b[0m\u001b[0m\n\u001b[1;32m   1267\u001b[0m             \u001b[0;32mtry\u001b[0m\u001b[0;34m:\u001b[0m\u001b[0;34m\u001b[0m\u001b[0;34m\u001b[0m\u001b[0m\n\u001b[0;32m-> 1268\u001b[0;31m                 \u001b[0mself\u001b[0m\u001b[0;34m.\u001b[0m\u001b[0m_parser\u001b[0m\u001b[0;34m.\u001b[0m\u001b[0mfeed\u001b[0m\u001b[0;34m(\u001b[0m\u001b[0mdata\u001b[0m\u001b[0;34m)\u001b[0m\u001b[0;34m\u001b[0m\u001b[0;34m\u001b[0m\u001b[0m\n\u001b[0m\u001b[1;32m   1269\u001b[0m             \u001b[0;32mexcept\u001b[0m \u001b[0mSyntaxError\u001b[0m \u001b[0;32mas\u001b[0m \u001b[0mexc\u001b[0m\u001b[0;34m:\u001b[0m\u001b[0;34m\u001b[0m\u001b[0;34m\u001b[0m\u001b[0m\n\u001b[1;32m   1270\u001b[0m                 \u001b[0mself\u001b[0m\u001b[0;34m.\u001b[0m\u001b[0m_events_queue\u001b[0m\u001b[0;34m.\u001b[0m\u001b[0mappend\u001b[0m\u001b[0;34m(\u001b[0m\u001b[0mexc\u001b[0m\u001b[0;34m)\u001b[0m\u001b[0;34m\u001b[0m\u001b[0;34m\u001b[0m\u001b[0m\n",
            "\u001b[0;31mKeyboardInterrupt\u001b[0m: "
          ]
        }
      ]
    },
    {
      "cell_type": "code",
      "metadata": {
        "id": "gl9emV_VQoIi",
        "outputId": "59a65f47-8175-43c4-a711-b5f6743dc0fa",
        "colab": {
          "base_uri": "https://localhost:8080/",
          "height": 1000
        }
      },
      "source": [
        "print(pharma.head(5))\n",
        "pharma.info()\n",
        "pharma.describe()\n"
      ],
      "execution_count": null,
      "outputs": [
        {
          "output_type": "stream",
          "text": [
            "   ActivityID_CRM EventType_CRM  ...  Accuracy        LocationTime\n",
            "0         5365971         Визит  ...    16.374 2019-12-04 14:09:22\n",
            "1         5365979         Визит  ...    16.648 2019-12-04 09:48:20\n",
            "2         5365981         Визит  ...    17.080 2019-12-05 17:11:24\n",
            "3         5365981         Визит  ...    17.080 2019-12-05 17:11:24\n",
            "4         5365981         Визит  ...    17.080 2019-12-05 17:11:24\n",
            "\n",
            "[5 rows x 29 columns]\n",
            "<class 'pandas.core.frame.DataFrame'>\n",
            "RangeIndex: 525965 entries, 0 to 525964\n",
            "Data columns (total 29 columns):\n",
            " #   Column                 Non-Null Count   Dtype         \n",
            "---  ------                 --------------   -----         \n",
            " 0   ActivityID_CRM         525965 non-null  int64         \n",
            " 1   EventType_CRM          525965 non-null  object        \n",
            " 2   VisitNumberClient_CRM  469783 non-null  float64       \n",
            " 3   StartTime_CRM          525965 non-null  datetime64[ns]\n",
            " 4   EndTime_CRM            525965 non-null  datetime64[ns]\n",
            " 5   UniqueId_CRM           525937 non-null  object        \n",
            " 6   BusinessUnit_CRM       525876 non-null  object        \n",
            " 7   Team_CRM               525876 non-null  object        \n",
            " 8   SLM_AgentId_CRM        525876 non-null  float64       \n",
            " 9   FLM_AgentId_CRM        525876 non-null  float64       \n",
            " 10  MR_AgentId_CRM         525965 non-null  int64         \n",
            " 11  CompanyID_CRM          521400 non-null  float64       \n",
            " 12  ClientID_CRM           521400 non-null  float64       \n",
            " 13  PersonID_CRM           521400 non-null  float64       \n",
            " 14  Speciality_CRM         521400 non-null  object        \n",
            " 15  TargetGroup_CRM        462589 non-null  object        \n",
            " 16  TargetGroupAddon_CRM   0 non-null       float64       \n",
            " 17  Category_CRM           462589 non-null  object        \n",
            " 18  CompanyType_CRM        521400 non-null  object        \n",
            " 19  IsCompleted            525965 non-null  int64         \n",
            " 20  IsDoubleCall           525937 non-null  float64       \n",
            " 21  BrandId_CLM            507139 non-null  float64       \n",
            " 22  BrandName_CLM          507139 non-null  object        \n",
            " 23  BrandDuration_CLM      507139 non-null  float64       \n",
            " 24  BrandResult_CRM        344805 non-null  float64       \n",
            " 25  Latitude               499013 non-null  float64       \n",
            " 26  Longitude              499013 non-null  float64       \n",
            " 27  Accuracy               499013 non-null  float64       \n",
            " 28  LocationTime           497132 non-null  datetime64[ns]\n",
            "dtypes: datetime64[ns](3), float64(14), int64(3), object(9)\n",
            "memory usage: 116.4+ MB\n"
          ],
          "name": "stdout"
        },
        {
          "output_type": "execute_result",
          "data": {
            "text/html": [
              "<div>\n",
              "<style scoped>\n",
              "    .dataframe tbody tr th:only-of-type {\n",
              "        vertical-align: middle;\n",
              "    }\n",
              "\n",
              "    .dataframe tbody tr th {\n",
              "        vertical-align: top;\n",
              "    }\n",
              "\n",
              "    .dataframe thead th {\n",
              "        text-align: right;\n",
              "    }\n",
              "</style>\n",
              "<table border=\"1\" class=\"dataframe\">\n",
              "  <thead>\n",
              "    <tr style=\"text-align: right;\">\n",
              "      <th></th>\n",
              "      <th>ActivityID_CRM</th>\n",
              "      <th>VisitNumberClient_CRM</th>\n",
              "      <th>SLM_AgentId_CRM</th>\n",
              "      <th>FLM_AgentId_CRM</th>\n",
              "      <th>MR_AgentId_CRM</th>\n",
              "      <th>CompanyID_CRM</th>\n",
              "      <th>ClientID_CRM</th>\n",
              "      <th>PersonID_CRM</th>\n",
              "      <th>TargetGroupAddon_CRM</th>\n",
              "      <th>IsCompleted</th>\n",
              "      <th>IsDoubleCall</th>\n",
              "      <th>BrandId_CLM</th>\n",
              "      <th>BrandDuration_CLM</th>\n",
              "      <th>BrandResult_CRM</th>\n",
              "      <th>Latitude</th>\n",
              "      <th>Longitude</th>\n",
              "      <th>Accuracy</th>\n",
              "    </tr>\n",
              "  </thead>\n",
              "  <tbody>\n",
              "    <tr>\n",
              "      <th>count</th>\n",
              "      <td>5.259650e+05</td>\n",
              "      <td>469783.000000</td>\n",
              "      <td>525876.000000</td>\n",
              "      <td>525876.000000</td>\n",
              "      <td>525965.000000</td>\n",
              "      <td>5.214000e+05</td>\n",
              "      <td>5.214000e+05</td>\n",
              "      <td>5.214000e+05</td>\n",
              "      <td>0.0</td>\n",
              "      <td>525965.000000</td>\n",
              "      <td>525937.000000</td>\n",
              "      <td>507139.000000</td>\n",
              "      <td>507139.000000</td>\n",
              "      <td>344805.000000</td>\n",
              "      <td>499013.000000</td>\n",
              "      <td>499013.000000</td>\n",
              "      <td>499013.000000</td>\n",
              "    </tr>\n",
              "    <tr>\n",
              "      <th>mean</th>\n",
              "      <td>5.709297e+06</td>\n",
              "      <td>1.014124</td>\n",
              "      <td>968.554486</td>\n",
              "      <td>1517.520471</td>\n",
              "      <td>1990.151854</td>\n",
              "      <td>1.395634e+05</td>\n",
              "      <td>1.101914e+06</td>\n",
              "      <td>1.688442e+06</td>\n",
              "      <td>NaN</td>\n",
              "      <td>0.983356</td>\n",
              "      <td>0.034932</td>\n",
              "      <td>45.129775</td>\n",
              "      <td>132.639308</td>\n",
              "      <td>17.740537</td>\n",
              "      <td>54.021393</td>\n",
              "      <td>50.237199</td>\n",
              "      <td>77.160473</td>\n",
              "    </tr>\n",
              "    <tr>\n",
              "      <th>std</th>\n",
              "      <td>5.488380e+04</td>\n",
              "      <td>0.466496</td>\n",
              "      <td>1268.205452</td>\n",
              "      <td>1495.994526</td>\n",
              "      <td>1525.434441</td>\n",
              "      <td>1.906882e+05</td>\n",
              "      <td>8.405887e+05</td>\n",
              "      <td>1.465199e+06</td>\n",
              "      <td>NaN</td>\n",
              "      <td>0.127932</td>\n",
              "      <td>0.183608</td>\n",
              "      <td>11.306829</td>\n",
              "      <td>261.711278</td>\n",
              "      <td>25.647889</td>\n",
              "      <td>5.639421</td>\n",
              "      <td>23.893974</td>\n",
              "      <td>2768.704474</td>\n",
              "    </tr>\n",
              "    <tr>\n",
              "      <th>min</th>\n",
              "      <td>4.426504e+06</td>\n",
              "      <td>1.000000</td>\n",
              "      <td>15.000000</td>\n",
              "      <td>3.000000</td>\n",
              "      <td>4.000000</td>\n",
              "      <td>3.000000e+00</td>\n",
              "      <td>8.000000e+00</td>\n",
              "      <td>7.000000e+00</td>\n",
              "      <td>NaN</td>\n",
              "      <td>0.000000</td>\n",
              "      <td>0.000000</td>\n",
              "      <td>29.000000</td>\n",
              "      <td>0.000000</td>\n",
              "      <td>-139.000000</td>\n",
              "      <td>0.000000</td>\n",
              "      <td>0.000000</td>\n",
              "      <td>0.000000</td>\n",
              "    </tr>\n",
              "    <tr>\n",
              "      <th>25%</th>\n",
              "      <td>5.673482e+06</td>\n",
              "      <td>1.000000</td>\n",
              "      <td>221.000000</td>\n",
              "      <td>247.000000</td>\n",
              "      <td>347.000000</td>\n",
              "      <td>2.898200e+04</td>\n",
              "      <td>1.756320e+05</td>\n",
              "      <td>1.300390e+05</td>\n",
              "      <td>NaN</td>\n",
              "      <td>1.000000</td>\n",
              "      <td>0.000000</td>\n",
              "      <td>35.000000</td>\n",
              "      <td>4.000000</td>\n",
              "      <td>3.000000</td>\n",
              "      <td>52.264800</td>\n",
              "      <td>37.533000</td>\n",
              "      <td>12.000000</td>\n",
              "    </tr>\n",
              "    <tr>\n",
              "      <th>50%</th>\n",
              "      <td>5.713573e+06</td>\n",
              "      <td>1.000000</td>\n",
              "      <td>420.000000</td>\n",
              "      <td>443.000000</td>\n",
              "      <td>3010.000000</td>\n",
              "      <td>5.781300e+04</td>\n",
              "      <td>1.154857e+06</td>\n",
              "      <td>2.185345e+06</td>\n",
              "      <td>NaN</td>\n",
              "      <td>1.000000</td>\n",
              "      <td>0.000000</td>\n",
              "      <td>46.000000</td>\n",
              "      <td>33.000000</td>\n",
              "      <td>9.000000</td>\n",
              "      <td>55.504400</td>\n",
              "      <td>39.873400</td>\n",
              "      <td>23.989000</td>\n",
              "    </tr>\n",
              "    <tr>\n",
              "      <th>75%</th>\n",
              "      <td>5.750097e+06</td>\n",
              "      <td>1.000000</td>\n",
              "      <td>548.000000</td>\n",
              "      <td>3263.000000</td>\n",
              "      <td>3430.000000</td>\n",
              "      <td>1.434960e+05</td>\n",
              "      <td>1.949313e+06</td>\n",
              "      <td>3.207904e+06</td>\n",
              "      <td>NaN</td>\n",
              "      <td>1.000000</td>\n",
              "      <td>0.000000</td>\n",
              "      <td>57.000000</td>\n",
              "      <td>147.000000</td>\n",
              "      <td>22.000000</td>\n",
              "      <td>56.317600</td>\n",
              "      <td>55.880300</td>\n",
              "      <td>32.303000</td>\n",
              "    </tr>\n",
              "    <tr>\n",
              "      <th>max</th>\n",
              "      <td>5.886067e+06</td>\n",
              "      <td>149.000000</td>\n",
              "      <td>3586.000000</td>\n",
              "      <td>3705.000000</td>\n",
              "      <td>3696.000000</td>\n",
              "      <td>1.012958e+06</td>\n",
              "      <td>2.433352e+06</td>\n",
              "      <td>3.686617e+06</td>\n",
              "      <td>NaN</td>\n",
              "      <td>1.000000</td>\n",
              "      <td>1.000000</td>\n",
              "      <td>69.000000</td>\n",
              "      <td>38879.000000</td>\n",
              "      <td>2515.000000</td>\n",
              "      <td>69.078340</td>\n",
              "      <td>142.755100</td>\n",
              "      <td>870489.375000</td>\n",
              "    </tr>\n",
              "  </tbody>\n",
              "</table>\n",
              "</div>"
            ],
            "text/plain": [
              "       ActivityID_CRM  VisitNumberClient_CRM  ...      Longitude       Accuracy\n",
              "count    5.259650e+05          469783.000000  ...  499013.000000  499013.000000\n",
              "mean     5.709297e+06               1.014124  ...      50.237199      77.160473\n",
              "std      5.488380e+04               0.466496  ...      23.893974    2768.704474\n",
              "min      4.426504e+06               1.000000  ...       0.000000       0.000000\n",
              "25%      5.673482e+06               1.000000  ...      37.533000      12.000000\n",
              "50%      5.713573e+06               1.000000  ...      39.873400      23.989000\n",
              "75%      5.750097e+06               1.000000  ...      55.880300      32.303000\n",
              "max      5.886067e+06             149.000000  ...     142.755100  870489.375000\n",
              "\n",
              "[8 rows x 17 columns]"
            ]
          },
          "metadata": {
            "tags": []
          },
          "execution_count": 71
        }
      ]
    },
    {
      "cell_type": "markdown",
      "metadata": {
        "id": "UoH0D26yUgJL"
      },
      "source": [
        "**первые строчки и анализ данных.Здесь мы видим основные моменты.** \n",
        "\n",
        "\n",
        "\n",
        "\n",
        "```\n",
        "# This is formatted as code\n",
        "```\n",
        "\n",
        "\n"
      ]
    },
    {
      "cell_type": "code",
      "metadata": {
        "id": "BGC1UJE3S_19"
      },
      "source": [
        "import numpy as np\n",
        "from matplotlib import pyplot as plt"
      ],
      "execution_count": null,
      "outputs": []
    },
    {
      "cell_type": "code",
      "metadata": {
        "id": "ehxKIrUlXHn0",
        "outputId": "9c0c3d5d-3498-4877-8ea5-7d315e068cc8",
        "colab": {
          "base_uri": "https://localhost:8080/",
          "height": 425
        }
      },
      "source": [
        "pharma['EventType_CRM'].value_counts()"
      ],
      "execution_count": null,
      "outputs": [
        {
          "output_type": "execute_result",
          "data": {
            "text/plain": [
              "Визит                                      469783\n",
              "Фармкружок                                  38363\n",
              "Видеопрезентация                             8164\n",
              "Презентация                                  5111\n",
              "Административная работа                      1351\n",
              "Время в дороге                                730\n",
              "Отпуск                                        553\n",
              "Обед                                          448\n",
              "Встреча с менеджером                          361\n",
              "Тренинг                                       335\n",
              "Круглый стол                                  174\n",
              "Ремонт автомобиля                             147\n",
              "Болезнь                                       145\n",
              "Подготовка презентации / круглого стола        67\n",
              "Выставка / конгресс                            63\n",
              "Встреча с Opinion Leader                       49\n",
              "Проектная деятельность                         45\n",
              "Встреча с клиентом                             27\n",
              "Видеоконференция                               17\n",
              "Подготовка выставки / конгресса                16\n",
              "Проведение тренинга                             8\n",
              "Аудит                                           5\n",
              "Долгосрочное отсутствие                         3\n",
              "Name: EventType_CRM, dtype: int64"
            ]
          },
          "metadata": {
            "tags": []
          },
          "execution_count": 22
        }
      ]
    },
    {
      "cell_type": "code",
      "metadata": {
        "id": "EGDYSLdsXrXJ",
        "outputId": "9c14c6cc-8423-4fff-aadb-495430e634d0",
        "colab": {
          "base_uri": "https://localhost:8080/",
          "height": 1000
        }
      },
      "source": [
        "pharma.head(10)"
      ],
      "execution_count": null,
      "outputs": [
        {
          "output_type": "execute_result",
          "data": {
            "text/html": [
              "<div>\n",
              "<style scoped>\n",
              "    .dataframe tbody tr th:only-of-type {\n",
              "        vertical-align: middle;\n",
              "    }\n",
              "\n",
              "    .dataframe tbody tr th {\n",
              "        vertical-align: top;\n",
              "    }\n",
              "\n",
              "    .dataframe thead th {\n",
              "        text-align: right;\n",
              "    }\n",
              "</style>\n",
              "<table border=\"1\" class=\"dataframe\">\n",
              "  <thead>\n",
              "    <tr style=\"text-align: right;\">\n",
              "      <th></th>\n",
              "      <th>ActivityID_CRM</th>\n",
              "      <th>EventType_CRM</th>\n",
              "      <th>VisitNumberClient_CRM</th>\n",
              "      <th>StartTime_CRM</th>\n",
              "      <th>EndTime_CRM</th>\n",
              "      <th>UniqueId_CRM</th>\n",
              "      <th>BusinessUnit_CRM</th>\n",
              "      <th>Team_CRM</th>\n",
              "      <th>SLM_AgentId_CRM</th>\n",
              "      <th>FLM_AgentId_CRM</th>\n",
              "      <th>MR_AgentId_CRM</th>\n",
              "      <th>CompanyID_CRM</th>\n",
              "      <th>ClientID_CRM</th>\n",
              "      <th>PersonID_CRM</th>\n",
              "      <th>Speciality_CRM</th>\n",
              "      <th>TargetGroup_CRM</th>\n",
              "      <th>TargetGroupAddon_CRM</th>\n",
              "      <th>Category_CRM</th>\n",
              "      <th>CompanyType_CRM</th>\n",
              "      <th>IsCompleted</th>\n",
              "      <th>IsDoubleCall</th>\n",
              "      <th>BrandId_CLM</th>\n",
              "      <th>BrandName_CLM</th>\n",
              "      <th>BrandDuration_CLM</th>\n",
              "      <th>BrandResult_CRM</th>\n",
              "      <th>Latitude</th>\n",
              "      <th>Longitude</th>\n",
              "      <th>Accuracy</th>\n",
              "      <th>LocationTime</th>\n",
              "    </tr>\n",
              "  </thead>\n",
              "  <tbody>\n",
              "    <tr>\n",
              "      <th>0</th>\n",
              "      <td>5365971</td>\n",
              "      <td>Визит</td>\n",
              "      <td>1.0</td>\n",
              "      <td>2019-12-04 14:00:00</td>\n",
              "      <td>2019-12-04 14:10:00</td>\n",
              "      <td>ACT-c6cb9b19-bdc2-4b7e-b6fc-375a1784f874</td>\n",
              "      <td>OTC</td>\n",
              "      <td>OTC-1</td>\n",
              "      <td>3586.0</td>\n",
              "      <td>139.0</td>\n",
              "      <td>146</td>\n",
              "      <td>49996.0</td>\n",
              "      <td>58769.0</td>\n",
              "      <td>72686.0</td>\n",
              "      <td>Акушерство и гинекология</td>\n",
              "      <td>Гинекологи</td>\n",
              "      <td>NaN</td>\n",
              "      <td>A</td>\n",
              "      <td>Консультация</td>\n",
              "      <td>1</td>\n",
              "      <td>0.0</td>\n",
              "      <td>65.0</td>\n",
              "      <td>Фемибион 2</td>\n",
              "      <td>61.0</td>\n",
              "      <td>10.0</td>\n",
              "      <td>52.2644</td>\n",
              "      <td>104.3125</td>\n",
              "      <td>16.374</td>\n",
              "      <td>2019-12-04 14:09:22</td>\n",
              "    </tr>\n",
              "    <tr>\n",
              "      <th>1</th>\n",
              "      <td>5365979</td>\n",
              "      <td>Визит</td>\n",
              "      <td>1.0</td>\n",
              "      <td>2019-12-04 09:30:00</td>\n",
              "      <td>2019-12-04 09:40:00</td>\n",
              "      <td>ACT-50551d82-5928-4d96-8c96-d82e6bea064a</td>\n",
              "      <td>OTC</td>\n",
              "      <td>OTC-1</td>\n",
              "      <td>3586.0</td>\n",
              "      <td>139.0</td>\n",
              "      <td>146</td>\n",
              "      <td>15293.0</td>\n",
              "      <td>90742.0</td>\n",
              "      <td>113187.0</td>\n",
              "      <td>Оториноларингология</td>\n",
              "      <td>ЛОР-врачи</td>\n",
              "      <td>NaN</td>\n",
              "      <td>A</td>\n",
              "      <td>Поликлиника</td>\n",
              "      <td>1</td>\n",
              "      <td>0.0</td>\n",
              "      <td>53.0</td>\n",
              "      <td>Аллервэй</td>\n",
              "      <td>102.0</td>\n",
              "      <td>6.0</td>\n",
              "      <td>52.2643</td>\n",
              "      <td>104.3124</td>\n",
              "      <td>16.648</td>\n",
              "      <td>2019-12-04 09:48:20</td>\n",
              "    </tr>\n",
              "    <tr>\n",
              "      <th>2</th>\n",
              "      <td>5365981</td>\n",
              "      <td>Визит</td>\n",
              "      <td>1.0</td>\n",
              "      <td>2019-12-05 16:30:00</td>\n",
              "      <td>2019-12-05 16:40:00</td>\n",
              "      <td>ACT-9a378672-e2e7-40c9-8f6e-bb37fb947253</td>\n",
              "      <td>OTC</td>\n",
              "      <td>OTC-1</td>\n",
              "      <td>3586.0</td>\n",
              "      <td>139.0</td>\n",
              "      <td>146</td>\n",
              "      <td>63666.0</td>\n",
              "      <td>1469512.0</td>\n",
              "      <td>227237.0</td>\n",
              "      <td>Акушерство и гинекология</td>\n",
              "      <td>Гинекологи</td>\n",
              "      <td>NaN</td>\n",
              "      <td>A</td>\n",
              "      <td>Консультация</td>\n",
              "      <td>1</td>\n",
              "      <td>1.0</td>\n",
              "      <td>37.0</td>\n",
              "      <td>Фемибион</td>\n",
              "      <td>25.0</td>\n",
              "      <td>NaN</td>\n",
              "      <td>52.2573</td>\n",
              "      <td>104.3444</td>\n",
              "      <td>17.080</td>\n",
              "      <td>2019-12-05 17:11:24</td>\n",
              "    </tr>\n",
              "    <tr>\n",
              "      <th>3</th>\n",
              "      <td>5365981</td>\n",
              "      <td>Визит</td>\n",
              "      <td>1.0</td>\n",
              "      <td>2019-12-05 16:30:00</td>\n",
              "      <td>2019-12-05 16:40:00</td>\n",
              "      <td>ACT-9a378672-e2e7-40c9-8f6e-bb37fb947253</td>\n",
              "      <td>OTC</td>\n",
              "      <td>OTC-1</td>\n",
              "      <td>3586.0</td>\n",
              "      <td>139.0</td>\n",
              "      <td>146</td>\n",
              "      <td>63666.0</td>\n",
              "      <td>1469512.0</td>\n",
              "      <td>227237.0</td>\n",
              "      <td>Акушерство и гинекология</td>\n",
              "      <td>Гинекологи</td>\n",
              "      <td>NaN</td>\n",
              "      <td>A</td>\n",
              "      <td>Консультация</td>\n",
              "      <td>1</td>\n",
              "      <td>1.0</td>\n",
              "      <td>64.0</td>\n",
              "      <td>Фемибион 1</td>\n",
              "      <td>25.0</td>\n",
              "      <td>8.0</td>\n",
              "      <td>52.2573</td>\n",
              "      <td>104.3444</td>\n",
              "      <td>17.080</td>\n",
              "      <td>2019-12-05 17:11:24</td>\n",
              "    </tr>\n",
              "    <tr>\n",
              "      <th>4</th>\n",
              "      <td>5365981</td>\n",
              "      <td>Визит</td>\n",
              "      <td>1.0</td>\n",
              "      <td>2019-12-05 16:30:00</td>\n",
              "      <td>2019-12-05 16:40:00</td>\n",
              "      <td>ACT-9a378672-e2e7-40c9-8f6e-bb37fb947253</td>\n",
              "      <td>OTC</td>\n",
              "      <td>OTC-1</td>\n",
              "      <td>3586.0</td>\n",
              "      <td>139.0</td>\n",
              "      <td>146</td>\n",
              "      <td>63666.0</td>\n",
              "      <td>1469512.0</td>\n",
              "      <td>227237.0</td>\n",
              "      <td>Акушерство и гинекология</td>\n",
              "      <td>Гинекологи</td>\n",
              "      <td>NaN</td>\n",
              "      <td>A</td>\n",
              "      <td>Консультация</td>\n",
              "      <td>1</td>\n",
              "      <td>1.0</td>\n",
              "      <td>37.0</td>\n",
              "      <td>Фемибион</td>\n",
              "      <td>96.0</td>\n",
              "      <td>NaN</td>\n",
              "      <td>52.2573</td>\n",
              "      <td>104.3444</td>\n",
              "      <td>17.080</td>\n",
              "      <td>2019-12-05 17:11:24</td>\n",
              "    </tr>\n",
              "    <tr>\n",
              "      <th>5</th>\n",
              "      <td>5365981</td>\n",
              "      <td>Визит</td>\n",
              "      <td>1.0</td>\n",
              "      <td>2019-12-05 16:30:00</td>\n",
              "      <td>2019-12-05 16:40:00</td>\n",
              "      <td>ACT-9a378672-e2e7-40c9-8f6e-bb37fb947253</td>\n",
              "      <td>OTC</td>\n",
              "      <td>OTC-1</td>\n",
              "      <td>3586.0</td>\n",
              "      <td>139.0</td>\n",
              "      <td>146</td>\n",
              "      <td>63666.0</td>\n",
              "      <td>1469512.0</td>\n",
              "      <td>227237.0</td>\n",
              "      <td>Акушерство и гинекология</td>\n",
              "      <td>Гинекологи</td>\n",
              "      <td>NaN</td>\n",
              "      <td>A</td>\n",
              "      <td>Консультация</td>\n",
              "      <td>1</td>\n",
              "      <td>1.0</td>\n",
              "      <td>64.0</td>\n",
              "      <td>Фемибион 1</td>\n",
              "      <td>96.0</td>\n",
              "      <td>8.0</td>\n",
              "      <td>52.2573</td>\n",
              "      <td>104.3444</td>\n",
              "      <td>17.080</td>\n",
              "      <td>2019-12-05 17:11:24</td>\n",
              "    </tr>\n",
              "    <tr>\n",
              "      <th>6</th>\n",
              "      <td>5365981</td>\n",
              "      <td>Визит</td>\n",
              "      <td>1.0</td>\n",
              "      <td>2019-12-05 16:30:00</td>\n",
              "      <td>2019-12-05 16:40:00</td>\n",
              "      <td>ACT-9a378672-e2e7-40c9-8f6e-bb37fb947253</td>\n",
              "      <td>OTC</td>\n",
              "      <td>OTC-1</td>\n",
              "      <td>3586.0</td>\n",
              "      <td>139.0</td>\n",
              "      <td>146</td>\n",
              "      <td>63666.0</td>\n",
              "      <td>1469512.0</td>\n",
              "      <td>227237.0</td>\n",
              "      <td>Акушерство и гинекология</td>\n",
              "      <td>Гинекологи</td>\n",
              "      <td>NaN</td>\n",
              "      <td>A</td>\n",
              "      <td>Консультация</td>\n",
              "      <td>1</td>\n",
              "      <td>1.0</td>\n",
              "      <td>37.0</td>\n",
              "      <td>Фемибион</td>\n",
              "      <td>46.0</td>\n",
              "      <td>NaN</td>\n",
              "      <td>52.2573</td>\n",
              "      <td>104.3444</td>\n",
              "      <td>17.080</td>\n",
              "      <td>2019-12-05 17:11:24</td>\n",
              "    </tr>\n",
              "    <tr>\n",
              "      <th>7</th>\n",
              "      <td>5365991</td>\n",
              "      <td>Визит</td>\n",
              "      <td>1.0</td>\n",
              "      <td>2019-12-04 12:00:00</td>\n",
              "      <td>2019-12-04 12:10:00</td>\n",
              "      <td>ACT-7fe23bac-dbc5-4a76-a52c-18f5b3cc3983</td>\n",
              "      <td>OTC</td>\n",
              "      <td>OTC-1</td>\n",
              "      <td>3586.0</td>\n",
              "      <td>139.0</td>\n",
              "      <td>146</td>\n",
              "      <td>49996.0</td>\n",
              "      <td>45407.0</td>\n",
              "      <td>56401.0</td>\n",
              "      <td>Акушерство и гинекология</td>\n",
              "      <td>Гинекологи</td>\n",
              "      <td>NaN</td>\n",
              "      <td>A</td>\n",
              "      <td>Консультация</td>\n",
              "      <td>1</td>\n",
              "      <td>0.0</td>\n",
              "      <td>64.0</td>\n",
              "      <td>Фемибион 1</td>\n",
              "      <td>2.0</td>\n",
              "      <td>16.0</td>\n",
              "      <td>52.2640</td>\n",
              "      <td>104.3126</td>\n",
              "      <td>37.044</td>\n",
              "      <td>2019-12-04 12:04:43</td>\n",
              "    </tr>\n",
              "    <tr>\n",
              "      <th>8</th>\n",
              "      <td>5366005</td>\n",
              "      <td>Визит</td>\n",
              "      <td>1.0</td>\n",
              "      <td>2019-12-18 13:00:00</td>\n",
              "      <td>2019-12-18 13:10:00</td>\n",
              "      <td>ACT-686d3617-d8c5-4667-93c1-482730e0745c</td>\n",
              "      <td>OTC</td>\n",
              "      <td>OTC-1</td>\n",
              "      <td>3586.0</td>\n",
              "      <td>139.0</td>\n",
              "      <td>146</td>\n",
              "      <td>49996.0</td>\n",
              "      <td>45407.0</td>\n",
              "      <td>56401.0</td>\n",
              "      <td>Акушерство и гинекология</td>\n",
              "      <td>Гинекологи</td>\n",
              "      <td>NaN</td>\n",
              "      <td>A</td>\n",
              "      <td>Консультация</td>\n",
              "      <td>1</td>\n",
              "      <td>0.0</td>\n",
              "      <td>36.0</td>\n",
              "      <td>Нормазе</td>\n",
              "      <td>33.0</td>\n",
              "      <td>5.0</td>\n",
              "      <td>52.2641</td>\n",
              "      <td>104.3126</td>\n",
              "      <td>132.571</td>\n",
              "      <td>2019-12-18 13:10:13</td>\n",
              "    </tr>\n",
              "    <tr>\n",
              "      <th>9</th>\n",
              "      <td>5366009</td>\n",
              "      <td>Визит</td>\n",
              "      <td>1.0</td>\n",
              "      <td>2019-12-04 09:00:00</td>\n",
              "      <td>2019-12-04 09:10:00</td>\n",
              "      <td>ACT-e209db1f-c150-4034-90e4-045b6ff2e187</td>\n",
              "      <td>OTC</td>\n",
              "      <td>OTC-1</td>\n",
              "      <td>3586.0</td>\n",
              "      <td>139.0</td>\n",
              "      <td>146</td>\n",
              "      <td>18453.0</td>\n",
              "      <td>196524.0</td>\n",
              "      <td>185913.0</td>\n",
              "      <td>Дерматология</td>\n",
              "      <td>Дерматологи</td>\n",
              "      <td>NaN</td>\n",
              "      <td>A</td>\n",
              "      <td>Поликлиника</td>\n",
              "      <td>1</td>\n",
              "      <td>0.0</td>\n",
              "      <td>35.0</td>\n",
              "      <td>Цетрин</td>\n",
              "      <td>4.0</td>\n",
              "      <td>12.0</td>\n",
              "      <td>52.2662</td>\n",
              "      <td>104.3113</td>\n",
              "      <td>16.782</td>\n",
              "      <td>2019-12-04 08:39:58</td>\n",
              "    </tr>\n",
              "  </tbody>\n",
              "</table>\n",
              "</div>"
            ],
            "text/plain": [
              "   ActivityID_CRM EventType_CRM  ...  Accuracy        LocationTime\n",
              "0         5365971         Визит  ...    16.374 2019-12-04 14:09:22\n",
              "1         5365979         Визит  ...    16.648 2019-12-04 09:48:20\n",
              "2         5365981         Визит  ...    17.080 2019-12-05 17:11:24\n",
              "3         5365981         Визит  ...    17.080 2019-12-05 17:11:24\n",
              "4         5365981         Визит  ...    17.080 2019-12-05 17:11:24\n",
              "5         5365981         Визит  ...    17.080 2019-12-05 17:11:24\n",
              "6         5365981         Визит  ...    17.080 2019-12-05 17:11:24\n",
              "7         5365991         Визит  ...    37.044 2019-12-04 12:04:43\n",
              "8         5366005         Визит  ...   132.571 2019-12-18 13:10:13\n",
              "9         5366009         Визит  ...    16.782 2019-12-04 08:39:58\n",
              "\n",
              "[10 rows x 29 columns]"
            ]
          },
          "metadata": {
            "tags": []
          },
          "execution_count": 109
        }
      ]
    },
    {
      "cell_type": "code",
      "metadata": {
        "id": "LP8_eoMcYDJs",
        "outputId": "44da98aa-f067-49fe-f6a3-94c688a49568",
        "colab": {
          "base_uri": "https://localhost:8080/",
          "height": 374
        }
      },
      "source": [
        "pharma['VisitNumberClient_CRM'].value_counts()"
      ],
      "execution_count": null,
      "outputs": [
        {
          "output_type": "execute_result",
          "data": {
            "text/plain": [
              "1.0      464906\n",
              "2.0        4350\n",
              "3.0         331\n",
              "4.0         135\n",
              "5.0          23\n",
              "6.0           6\n",
              "11.0          6\n",
              "9.0           6\n",
              "7.0           5\n",
              "20.0          5\n",
              "100.0         1\n",
              "98.0          1\n",
              "22.0          1\n",
              "77.0          1\n",
              "106.0         1\n",
              "62.0          1\n",
              "14.0          1\n",
              "149.0         1\n",
              "132.0         1\n",
              "113.0         1\n",
              "Name: VisitNumberClient_CRM, dtype: int64"
            ]
          },
          "metadata": {
            "tags": []
          },
          "execution_count": 28
        }
      ]
    },
    {
      "cell_type": "code",
      "metadata": {
        "id": "pbaNKxKpYNhq",
        "outputId": "ac36de65-65bf-4e84-990b-99446609f107",
        "colab": {
          "base_uri": "https://localhost:8080/",
          "height": 418
        }
      },
      "source": [
        "plt.hist(pharma['VisitNumberClient_CRM'])"
      ],
      "execution_count": null,
      "outputs": [
        {
          "output_type": "stream",
          "text": [
            "/usr/local/lib/python3.6/dist-packages/numpy/lib/histograms.py:839: RuntimeWarning: invalid value encountered in greater_equal\n",
            "  keep = (tmp_a >= first_edge)\n",
            "/usr/local/lib/python3.6/dist-packages/numpy/lib/histograms.py:840: RuntimeWarning: invalid value encountered in less_equal\n",
            "  keep &= (tmp_a <= last_edge)\n"
          ],
          "name": "stderr"
        },
        {
          "output_type": "execute_result",
          "data": {
            "text/plain": [
              "(array([4.69769e+05, 6.00000e+00, 0.00000e+00, 0.00000e+00, 1.00000e+00,\n",
              "        1.00000e+00, 2.00000e+00, 2.00000e+00, 1.00000e+00, 1.00000e+00]),\n",
              " array([  1. ,  15.8,  30.6,  45.4,  60.2,  75. ,  89.8, 104.6, 119.4,\n",
              "        134.2, 149. ]),\n",
              " <a list of 10 Patch objects>)"
            ]
          },
          "metadata": {
            "tags": []
          },
          "execution_count": 29
        },
        {
          "output_type": "display_data",
          "data": {
            "image/png": "[encoded data removed]",
            "text/plain": [
              "<Figure size 432x288 with 1 Axes>"
            ]
          },
          "metadata": {
            "tags": [],
            "needs_background": "light"
          }
        }
      ]
    },
    {
      "cell_type": "code",
      "metadata": {
        "id": "mfExUs2JYtHr",
        "outputId": "04694237-a1a1-4963-ffdd-7d06654dd683",
        "colab": {
          "base_uri": "https://localhost:8080/",
          "height": 476
        }
      },
      "source": [
        "pharma['SLM_AgentId_CRM'].value_counts()\n",
        "\n",
        "\n"
      ],
      "execution_count": null,
      "outputs": [
        {
          "output_type": "execute_result",
          "data": {
            "text/plain": [
              "Найз                 63875\n",
              "Омез                 51049\n",
              "Цетрин               34083\n",
              "Ибуклин              33493\n",
              "Називин              33279\n",
              "Нейробион            27379\n",
              "Кеторол экспресс     27261\n",
              "Кеторол              27250\n",
              "Омез ДСР             25773\n",
              "РАЗО                 20842\n",
              "Тексаред             20334\n",
              "Фемибион             19138\n",
              "Найз гель            18831\n",
              "Нормазе              15607\n",
              "Ибуклин Юниор        12671\n",
              "Леволет Р            11529\n",
              "Леволет              11527\n",
              "Фемибион 1            9962\n",
              "Фемибион 2            9176\n",
              "Ципролет              8698\n",
              "Найзилат              7949\n",
              "Аллервэй              6158\n",
              "Ципролет А            5433\n",
              "Декспан Плюс          3505\n",
              "Экзифин               2223\n",
              "Декспан Плюс Бэби      114\n",
              "Name: BrandName_CLM, dtype: int64"
            ]
          },
          "metadata": {
            "tags": []
          },
          "execution_count": 38
        }
      ]
    },
    {
      "cell_type": "code",
      "metadata": {
        "id": "PZQ-jJeWZC46",
        "outputId": "f261ffcb-8632-42cc-e54e-fdf66fa204aa",
        "colab": {
          "base_uri": "https://localhost:8080/",
          "height": 510
        }
      },
      "source": [
        "pharma.columns.tolist()"
      ],
      "execution_count": null,
      "outputs": [
        {
          "output_type": "execute_result",
          "data": {
            "text/plain": [
              "['ActivityID_CRM',\n",
              " 'EventType_CRM',\n",
              " 'VisitNumberClient_CRM',\n",
              " 'StartTime_CRM',\n",
              " 'EndTime_CRM',\n",
              " 'UniqueId_CRM',\n",
              " 'BusinessUnit_CRM',\n",
              " 'Team_CRM',\n",
              " 'SLM_AgentId_CRM',\n",
              " 'FLM_AgentId_CRM',\n",
              " 'MR_AgentId_CRM',\n",
              " 'CompanyID_CRM',\n",
              " 'ClientID_CRM',\n",
              " 'PersonID_CRM',\n",
              " 'Speciality_CRM',\n",
              " 'TargetGroup_CRM',\n",
              " 'TargetGroupAddon_CRM',\n",
              " 'Category_CRM',\n",
              " 'CompanyType_CRM',\n",
              " 'IsCompleted',\n",
              " 'IsDoubleCall',\n",
              " 'BrandId_CLM',\n",
              " 'BrandName_CLM',\n",
              " 'BrandDuration_CLM',\n",
              " 'BrandResult_CRM',\n",
              " 'Latitude',\n",
              " 'Longitude',\n",
              " 'Accuracy',\n",
              " 'LocationTime']"
            ]
          },
          "metadata": {
            "tags": []
          },
          "execution_count": 32
        }
      ]
    },
    {
      "cell_type": "code",
      "metadata": {
        "id": "EkFfAL5WZzq8"
      },
      "source": [
        "f=[pharma['BrandName_CLM'].value_counts()]\n"
      ],
      "execution_count": null,
      "outputs": []
    },
    {
      "cell_type": "code",
      "metadata": {
        "id": "AK2Go6DmZ7_z",
        "outputId": "c6c3eb8e-b743-4a88-c148-2170697b4b8c",
        "colab": {
          "base_uri": "https://localhost:8080/",
          "height": 476
        }
      },
      "source": [
        "list(f)"
      ],
      "execution_count": null,
      "outputs": [
        {
          "output_type": "execute_result",
          "data": {
            "text/plain": [
              "[Найз                 63875\n",
              " Омез                 51049\n",
              " Цетрин               34083\n",
              " Ибуклин              33493\n",
              " Називин              33279\n",
              " Нейробион            27379\n",
              " Кеторол экспресс     27261\n",
              " Кеторол              27250\n",
              " Омез ДСР             25773\n",
              " РАЗО                 20842\n",
              " Тексаред             20334\n",
              " Фемибион             19138\n",
              " Найз гель            18831\n",
              " Нормазе              15607\n",
              " Ибуклин Юниор        12671\n",
              " Леволет Р            11529\n",
              " Леволет              11527\n",
              " Фемибион 1            9962\n",
              " Фемибион 2            9176\n",
              " Ципролет              8698\n",
              " Найзилат              7949\n",
              " Аллервэй              6158\n",
              " Ципролет А            5433\n",
              " Декспан Плюс          3505\n",
              " Экзифин               2223\n",
              " Декспан Плюс Бэби      114\n",
              " Name: BrandName_CLM, dtype: int64]"
            ]
          },
          "metadata": {
            "tags": []
          },
          "execution_count": 54
        }
      ]
    },
    {
      "cell_type": "code",
      "metadata": {
        "id": "9QL4F0vba7Ud",
        "outputId": "62671469-40ff-4555-e4fb-1af04b977c14",
        "colab": {
          "base_uri": "https://localhost:8080/",
          "height": 163
        }
      },
      "source": [
        "f[1]"
      ],
      "execution_count": null,
      "outputs": [
        {
          "output_type": "error",
          "ename": "IndexError",
          "evalue": "ignored",
          "traceback": [
            "\u001b[0;31m---------------------------------------------------------------------------\u001b[0m",
            "\u001b[0;31mIndexError\u001b[0m                                Traceback (most recent call last)",
            "\u001b[0;32m<ipython-input-55-25c10f67bc1c>\u001b[0m in \u001b[0;36m<module>\u001b[0;34m()\u001b[0m\n\u001b[0;32m----> 1\u001b[0;31m \u001b[0mf\u001b[0m\u001b[0;34m[\u001b[0m\u001b[0;36m1\u001b[0m\u001b[0;34m]\u001b[0m\u001b[0;34m\u001b[0m\u001b[0;34m\u001b[0m\u001b[0m\n\u001b[0m",
            "\u001b[0;31mIndexError\u001b[0m: list index out of range"
          ]
        }
      ]
    },
    {
      "cell_type": "code",
      "metadata": {
        "id": "OWcWce-ybCu7",
        "outputId": "1152ece5-73ac-4fdb-a83f-4ee642accf1c",
        "colab": {
          "base_uri": "https://localhost:8080/",
          "height": 448
        }
      },
      "source": [
        "plt.hist(pharma['PersonID_CRM'])"
      ],
      "execution_count": null,
      "outputs": [
        {
          "output_type": "stream",
          "text": [
            "/usr/local/lib/python3.6/dist-packages/numpy/lib/histograms.py:839: RuntimeWarning: invalid value encountered in greater_equal\n",
            "  keep = (tmp_a >= first_edge)\n",
            "/usr/local/lib/python3.6/dist-packages/numpy/lib/histograms.py:840: RuntimeWarning: invalid value encountered in less_equal\n",
            "  keep &= (tmp_a <= last_edge)\n"
          ],
          "name": "stderr"
        },
        {
          "output_type": "execute_result",
          "data": {
            "text/plain": [
              "(array([234557.,   5711.,      0.,      0.,      0.,  22904.,  33091.,\n",
              "         18169., 191595.,  15373.]),\n",
              " array([7.000000e+00, 3.686680e+05, 7.373290e+05, 1.105990e+06,\n",
              "        1.474651e+06, 1.843312e+06, 2.211973e+06, 2.580634e+06,\n",
              "        2.949295e+06, 3.317956e+06, 3.686617e+06]),\n",
              " <a list of 10 Patch objects>)"
            ]
          },
          "metadata": {
            "tags": []
          },
          "execution_count": 60
        },
        {
          "output_type": "display_data",
          "data": {
            "image/png": "[encoded data removed]",
            "text/plain": [
              "<Figure size 432x288 with 1 Axes>"
            ]
          },
          "metadata": {
            "tags": [],
            "needs_background": "light"
          }
        }
      ]
    },
    {
      "cell_type": "code",
      "metadata": {
        "id": "Nho2bsz-bdUU"
      },
      "source": [
        ""
      ],
      "execution_count": null,
      "outputs": []
    },
    {
      "cell_type": "code",
      "metadata": {
        "id": "rAFVvdA3bBVL",
        "outputId": "2f0c419e-5d1b-4fcd-95a9-1b00e7dd7d35",
        "colab": {
          "base_uri": "https://localhost:8080/",
          "height": 476
        }
      },
      "source": [
        "f# нужно сделать гистограмму!!!!"
      ],
      "execution_count": null,
      "outputs": [
        {
          "output_type": "execute_result",
          "data": {
            "text/plain": [
              "[Найз                 63875\n",
              " Омез                 51049\n",
              " Цетрин               34083\n",
              " Ибуклин              33493\n",
              " Називин              33279\n",
              " Нейробион            27379\n",
              " Кеторол экспресс     27261\n",
              " Кеторол              27250\n",
              " Омез ДСР             25773\n",
              " РАЗО                 20842\n",
              " Тексаред             20334\n",
              " Фемибион             19138\n",
              " Найз гель            18831\n",
              " Нормазе              15607\n",
              " Ибуклин Юниор        12671\n",
              " Леволет Р            11529\n",
              " Леволет              11527\n",
              " Фемибион 1            9962\n",
              " Фемибион 2            9176\n",
              " Ципролет              8698\n",
              " Найзилат              7949\n",
              " Аллервэй              6158\n",
              " Ципролет А            5433\n",
              " Декспан Плюс          3505\n",
              " Экзифин               2223\n",
              " Декспан Плюс Бэби      114\n",
              " Name: BrandName_CLM, dtype: int64]"
            ]
          },
          "metadata": {
            "tags": []
          },
          "execution_count": 59
        }
      ]
    },
    {
      "cell_type": "code",
      "metadata": {
        "id": "amE17hG4ZayL",
        "outputId": "fe086e7a-ca5e-40e9-825d-8aa60f4bdd82",
        "colab": {
          "base_uri": "https://localhost:8080/",
          "height": 221
        }
      },
      "source": [
        "pharma['PersonID_CRM'].value_counts()# сделать подсчет КПИА с помощью создания таблицы"
      ],
      "execution_count": null,
      "outputs": [
        {
          "output_type": "execute_result",
          "data": {
            "text/plain": [
              "3203660.0    68\n",
              "3220504.0    61\n",
              "2033699.0    60\n",
              "3192999.0    59\n",
              "3191636.0    57\n",
              "             ..\n",
              "3199199.0     1\n",
              "18523.0       1\n",
              "74124.0       1\n",
              "296633.0      1\n",
              "77803.0       1\n",
              "Name: PersonID_CRM, Length: 71989, dtype: int64"
            ]
          },
          "metadata": {
            "tags": []
          },
          "execution_count": 37
        }
      ]
    },
    {
      "cell_type": "code",
      "metadata": {
        "id": "_od8sLufrphN",
        "outputId": "6caea4c3-60e8-4537-b79d-a14cdb98d451",
        "colab": {
          "base_uri": "https://localhost:8080/",
          "height": 221
        }
      },
      "source": [
        "pharma['BrandResult_CRM'].value_counts()"
      ],
      "execution_count": null,
      "outputs": [
        {
          "output_type": "execute_result",
          "data": {
            "text/plain": [
              "1.0      43632\n",
              "5.0      29665\n",
              "2.0      25592\n",
              "20.0     20559\n",
              "4.0      17347\n",
              "         ...  \n",
              "233.0        1\n",
              "484.0        1\n",
              "622.0        1\n",
              "239.0        1\n",
              "680.0        1\n",
              "Name: BrandResult_CRM, Length: 292, dtype: int64"
            ]
          },
          "metadata": {
            "tags": []
          },
          "execution_count": 65
        }
      ]
    },
    {
      "cell_type": "code",
      "metadata": {
        "id": "kRmNCSL9sOVA",
        "outputId": "0a083322-f0ca-41fc-bd2e-ec44a7dcc246",
        "colab": {
          "base_uri": "https://localhost:8080/",
          "height": 221
        }
      },
      "source": [
        "pharma['BrandDuration_CLM'].value_counts()#время презентации в секундах"
      ],
      "execution_count": null,
      "outputs": [
        {
          "output_type": "execute_result",
          "data": {
            "text/plain": [
              "2.0       39535\n",
              "1.0       39514\n",
              "3.0       26484\n",
              "4.0       16723\n",
              "5.0       12338\n",
              "          ...  \n",
              "1761.0        1\n",
              "1758.0        1\n",
              "1757.0        1\n",
              "6000.0        1\n",
              "3724.0        1\n",
              "Name: BrandDuration_CLM, Length: 2171, dtype: int64"
            ]
          },
          "metadata": {
            "tags": []
          },
          "execution_count": 67
        }
      ]
    },
    {
      "cell_type": "code",
      "metadata": {
        "id": "J51LleswtspZ"
      },
      "source": [
        "pharma['BrandDuration_CLM'].head(5) "
      ],
      "execution_count": null,
      "outputs": []
    },
    {
      "cell_type": "code",
      "metadata": {
        "id": "Djt4eHT7U0d2"
      },
      "source": [
        "df = pd.DataFrame(data,columns=['A','B','C'])"
      ],
      "execution_count": null,
      "outputs": []
    },
    {
      "cell_type": "code",
      "metadata": {
        "id": "x3dhZ0uxuLHN",
        "outputId": "56b7df91-6fcc-44ed-e340-9e58937b725c",
        "colab": {
          "base_uri": "https://localhost:8080/",
          "height": 51
        }
      },
      "source": [
        "np.corrcoef(pharma['BrandDuration_CLM'],pharma['BrandResult_CRM'])#подсчитать корреляцию"
      ],
      "execution_count": null,
      "outputs": [
        {
          "output_type": "execute_result",
          "data": {
            "text/plain": [
              "array([[nan, nan],\n",
              "       [nan, nan]])"
            ]
          },
          "metadata": {
            "tags": []
          },
          "execution_count": 72
        }
      ]
    },
    {
      "cell_type": "code",
      "metadata": {
        "id": "PSLduq4DwxOw"
      },
      "source": [
        "time=pharma['BrandDuration_CLM']\n",
        "sells=pharma['BrandResult_CRM']"
      ],
      "execution_count": null,
      "outputs": []
    },
    {
      "cell_type": "code",
      "metadata": {
        "id": "xO5T6d25xlsd",
        "outputId": "f6d59868-2c70-4577-b828-c8e5e3e9ecfa",
        "colab": {
          "base_uri": "https://localhost:8080/",
          "height": 34
        }
      },
      "source": [
        "type(time)"
      ],
      "execution_count": null,
      "outputs": [
        {
          "output_type": "execute_result",
          "data": {
            "text/plain": [
              "pandas.core.series.Series"
            ]
          },
          "metadata": {
            "tags": []
          },
          "execution_count": 77
        }
      ]
    },
    {
      "cell_type": "code",
      "metadata": {
        "id": "vYphomrczDFz",
        "outputId": "df24cfd2-7924-48b4-b461-32eb4e45f3c8",
        "colab": {
          "base_uri": "https://localhost:8080/",
          "height": 34
        }
      },
      "source": [
        "type(sells)"
      ],
      "execution_count": null,
      "outputs": [
        {
          "output_type": "execute_result",
          "data": {
            "text/plain": [
              "pandas.core.series.Series"
            ]
          },
          "metadata": {
            "tags": []
          },
          "execution_count": 78
        }
      ]
    },
    {
      "cell_type": "code",
      "metadata": {
        "id": "sWVI2XcbzFit",
        "outputId": "f3b65c2a-f8f7-4f84-8910-ce18d51a9aeb",
        "colab": {
          "base_uri": "https://localhost:8080/",
          "height": 119
        }
      },
      "source": [
        "time.head(5)"
      ],
      "execution_count": null,
      "outputs": [
        {
          "output_type": "execute_result",
          "data": {
            "text/plain": [
              "0     61.0\n",
              "1    102.0\n",
              "2     25.0\n",
              "3     25.0\n",
              "4     96.0\n",
              "Name: BrandDuration_CLM, dtype: float64"
            ]
          },
          "metadata": {
            "tags": []
          },
          "execution_count": 79
        }
      ]
    },
    {
      "cell_type": "code",
      "metadata": {
        "id": "l_V19tgAzMNe",
        "outputId": "12ce0ca8-6e58-4e36-d138-8b94440d5441",
        "colab": {
          "base_uri": "https://localhost:8080/",
          "height": 1000
        }
      },
      "source": [
        "time.head(60)"
      ],
      "execution_count": null,
      "outputs": [
        {
          "output_type": "execute_result",
          "data": {
            "text/plain": [
              "0      61.0\n",
              "1     102.0\n",
              "2      25.0\n",
              "3      25.0\n",
              "4      96.0\n",
              "5      96.0\n",
              "6      46.0\n",
              "7       2.0\n",
              "8      33.0\n",
              "9       4.0\n",
              "10    101.0\n",
              "11      3.0\n",
              "12      1.0\n",
              "13    450.0\n",
              "14    450.0\n",
              "15    450.0\n",
              "16    450.0\n",
              "17    450.0\n",
              "18    450.0\n",
              "19    450.0\n",
              "20     56.0\n",
              "21     56.0\n",
              "22     56.0\n",
              "23     56.0\n",
              "24     56.0\n",
              "25     56.0\n",
              "26     56.0\n",
              "27    107.0\n",
              "28      5.0\n",
              "29      5.0\n",
              "30      3.0\n",
              "31      3.0\n",
              "32     33.0\n",
              "33      6.0\n",
              "34     51.0\n",
              "35     23.0\n",
              "36     28.0\n",
              "37     65.0\n",
              "38     16.0\n",
              "39     70.0\n",
              "40     53.0\n",
              "41     32.0\n",
              "42     77.0\n",
              "43     31.0\n",
              "44    177.0\n",
              "45     99.0\n",
              "46      7.0\n",
              "47     12.0\n",
              "48     88.0\n",
              "49    151.0\n",
              "50     94.0\n",
              "51      2.0\n",
              "52     62.0\n",
              "53     54.0\n",
              "54     25.0\n",
              "55      2.0\n",
              "56      2.0\n",
              "57     60.0\n",
              "58    261.0\n",
              "59     23.0\n",
              "Name: BrandDuration_CLM, dtype: float64"
            ]
          },
          "metadata": {
            "tags": []
          },
          "execution_count": 80
        }
      ]
    },
    {
      "cell_type": "code",
      "metadata": {
        "id": "Ss9y68evzRGo",
        "outputId": "7127d645-aa0b-46a1-e1b3-979530a83c6d",
        "colab": {
          "base_uri": "https://localhost:8080/",
          "height": 51
        }
      },
      "source": [
        "np.corrcoef(time,sells)"
      ],
      "execution_count": null,
      "outputs": [
        {
          "output_type": "execute_result",
          "data": {
            "text/plain": [
              "array([[nan, nan],\n",
              "       [nan, nan]])"
            ]
          },
          "metadata": {
            "tags": []
          },
          "execution_count": 81
        }
      ]
    },
    {
      "cell_type": "code",
      "metadata": {
        "id": "XSsXekGczWQm",
        "outputId": "7aca70c1-9f5b-427e-b2a8-0e18af4a1121",
        "colab": {
          "base_uri": "https://localhost:8080/",
          "height": 88
        }
      },
      "source": [
        "#найти нан , очистить , наблюдать кореляцию"
      ],
      "execution_count": null,
      "outputs": [
        {
          "output_type": "stream",
          "text": [
            "/usr/local/lib/python3.6/dist-packages/pandas/core/ops/array_ops.py:253: FutureWarning: elementwise comparison failed; returning scalar instead, but in the future will perform elementwise comparison\n",
            "  res_values = method(rvalues)\n"
          ],
          "name": "stderr"
        },
        {
          "output_type": "execute_result",
          "data": {
            "text/plain": [
              "Series([], Name: BrandDuration_CLM, dtype: float64)"
            ]
          },
          "metadata": {
            "tags": []
          },
          "execution_count": 86
        }
      ]
    },
    {
      "cell_type": "code",
      "metadata": {
        "id": "0cyTLRjuzipm",
        "outputId": "d5805f4d-89e6-4d5a-cb06-f53661df7ae4",
        "colab": {
          "base_uri": "https://localhost:8080/",
          "height": 282
        }
      },
      "source": [
        "plt.scatter(time,sells)"
      ],
      "execution_count": null,
      "outputs": [
        {
          "output_type": "execute_result",
          "data": {
            "text/plain": [
              "<matplotlib.collections.PathCollection at 0x7f7c0a39efd0>"
            ]
          },
          "metadata": {
            "tags": []
          },
          "execution_count": 88
        },
        {
          "output_type": "display_data",
          "data": {
            "image/png": "[encoded data removed]",
            "text/plain": [
              "<Figure size 432x288 with 1 Axes>"
            ]
          },
          "metadata": {
            "tags": [],
            "needs_background": "light"
          }
        }
      ]
    },
    {
      "cell_type": "code",
      "metadata": {
        "id": "UIJ-9wos0Fq3",
        "outputId": "fa7c3a01-4a04-4957-cd4b-6370a44f30b8",
        "colab": {
          "base_uri": "https://localhost:8080/",
          "height": 221
        }
      },
      "source": [
        ""
      ],
      "execution_count": null,
      "outputs": [
        {
          "output_type": "execute_result",
          "data": {
            "text/plain": [
              "0          61.0\n",
              "1         102.0\n",
              "2          25.0\n",
              "3          25.0\n",
              "4          96.0\n",
              "          ...  \n",
              "525960     14.0\n",
              "525961     14.0\n",
              "525962     14.0\n",
              "525963     14.0\n",
              "525964     14.0\n",
              "Name: BrandDuration_CLM, Length: 525965, dtype: float64"
            ]
          },
          "metadata": {
            "tags": []
          },
          "execution_count": 89
        }
      ]
    },
    {
      "cell_type": "code",
      "metadata": {
        "id": "4sSaiTqC0fqE",
        "outputId": "98e30b7a-716b-4155-c717-6f87acdcc422",
        "colab": {
          "base_uri": "https://localhost:8080/",
          "height": 221
        }
      },
      "source": [
        "sells.dropna()"
      ],
      "execution_count": null,
      "outputs": [
        {
          "output_type": "execute_result",
          "data": {
            "text/plain": [
              "0         10.0\n",
              "1          6.0\n",
              "3          8.0\n",
              "5          8.0\n",
              "7         16.0\n",
              "          ... \n",
              "525948    20.0\n",
              "525949     4.0\n",
              "525950    20.0\n",
              "525953     8.0\n",
              "525955     5.0\n",
              "Name: BrandResult_CRM, Length: 344805, dtype: float64"
            ]
          },
          "metadata": {
            "tags": []
          },
          "execution_count": 91
        }
      ]
    },
    {
      "cell_type": "code",
      "metadata": {
        "id": "yjJFFXbq0kDE",
        "outputId": "b2c8c85d-05ad-4ed0-a3dc-f2b2c1e6c210",
        "colab": {
          "base_uri": "https://localhost:8080/",
          "height": 163
        }
      },
      "source": [
        "sells=sells.fillna(0)"
      ],
      "execution_count": null,
      "outputs": [
        {
          "output_type": "error",
          "ename": "AttributeError",
          "evalue": "ignored",
          "traceback": [
            "\u001b[0;31m---------------------------------------------------------------------------\u001b[0m",
            "\u001b[0;31mAttributeError\u001b[0m                            Traceback (most recent call last)",
            "\u001b[0;32m<ipython-input-102-85511bc0c6fc>\u001b[0m in \u001b[0;36m<module>\u001b[0;34m()\u001b[0m\n\u001b[0;32m----> 1\u001b[0;31m \u001b[0msells\u001b[0m\u001b[0;34m=\u001b[0m\u001b[0msells\u001b[0m\u001b[0;34m.\u001b[0m\u001b[0mfillna\u001b[0m\u001b[0;34m(\u001b[0m\u001b[0;36m0\u001b[0m\u001b[0;34m)\u001b[0m\u001b[0;34m\u001b[0m\u001b[0;34m\u001b[0m\u001b[0m\n\u001b[0m",
            "\u001b[0;31mAttributeError\u001b[0m: 'function' object has no attribute 'fillna'"
          ]
        }
      ]
    },
    {
      "cell_type": "code",
      "metadata": {
        "id": "3-9V2Jc71LGL",
        "outputId": "e2f7cb57-490d-491d-e9b2-e82c6500a938",
        "colab": {
          "base_uri": "https://localhost:8080/",
          "height": 163
        }
      },
      "source": [
        "time=time.fillna(0)"
      ],
      "execution_count": null,
      "outputs": [
        {
          "output_type": "error",
          "ename": "AttributeError",
          "evalue": "ignored",
          "traceback": [
            "\u001b[0;31m---------------------------------------------------------------------------\u001b[0m",
            "\u001b[0;31mAttributeError\u001b[0m                            Traceback (most recent call last)",
            "\u001b[0;32m<ipython-input-105-1e3335fc7dbd>\u001b[0m in \u001b[0;36m<module>\u001b[0;34m()\u001b[0m\n\u001b[0;32m----> 1\u001b[0;31m \u001b[0mtime\u001b[0m\u001b[0;34m=\u001b[0m\u001b[0mtime\u001b[0m\u001b[0;34m.\u001b[0m\u001b[0mfillna\u001b[0m\u001b[0;34m(\u001b[0m\u001b[0;36m0\u001b[0m\u001b[0;34m)\u001b[0m\u001b[0;34m\u001b[0m\u001b[0;34m\u001b[0m\u001b[0m\n\u001b[0m",
            "\u001b[0;31mAttributeError\u001b[0m: 'function' object has no attribute 'fillna'"
          ]
        }
      ]
    },
    {
      "cell_type": "code",
      "metadata": {
        "id": "KnhXID0v1NpT",
        "outputId": "affbbf98-fe9f-484d-ab0c-fe702ddd3858",
        "colab": {
          "base_uri": "https://localhost:8080/",
          "height": 408
        }
      },
      "source": [
        "np.corrcoef(time,sells)"
      ],
      "execution_count": null,
      "outputs": [
        {
          "output_type": "error",
          "ename": "TypeError",
          "evalue": "ignored",
          "traceback": [
            "\u001b[0;31m---------------------------------------------------------------------------\u001b[0m",
            "\u001b[0;31mTypeError\u001b[0m                                 Traceback (most recent call last)",
            "\u001b[0;32m<ipython-input-103-4460c915881d>\u001b[0m in \u001b[0;36m<module>\u001b[0;34m()\u001b[0m\n\u001b[0;32m----> 1\u001b[0;31m \u001b[0mnp\u001b[0m\u001b[0;34m.\u001b[0m\u001b[0mcorrcoef\u001b[0m\u001b[0;34m(\u001b[0m\u001b[0mtime\u001b[0m\u001b[0;34m,\u001b[0m\u001b[0msells\u001b[0m\u001b[0;34m)\u001b[0m\u001b[0;34m\u001b[0m\u001b[0;34m\u001b[0m\u001b[0m\n\u001b[0m",
            "\u001b[0;32m<__array_function__ internals>\u001b[0m in \u001b[0;36mcorrcoef\u001b[0;34m(*args, **kwargs)\u001b[0m\n",
            "\u001b[0;32m/usr/local/lib/python3.6/dist-packages/numpy/lib/function_base.py\u001b[0m in \u001b[0;36mcorrcoef\u001b[0;34m(x, y, rowvar, bias, ddof)\u001b[0m\n\u001b[1;32m   2524\u001b[0m         warnings.warn('bias and ddof have no effect and are deprecated',\n\u001b[1;32m   2525\u001b[0m                       DeprecationWarning, stacklevel=3)\n\u001b[0;32m-> 2526\u001b[0;31m     \u001b[0mc\u001b[0m \u001b[0;34m=\u001b[0m \u001b[0mcov\u001b[0m\u001b[0;34m(\u001b[0m\u001b[0mx\u001b[0m\u001b[0;34m,\u001b[0m \u001b[0my\u001b[0m\u001b[0;34m,\u001b[0m \u001b[0mrowvar\u001b[0m\u001b[0;34m)\u001b[0m\u001b[0;34m\u001b[0m\u001b[0;34m\u001b[0m\u001b[0m\n\u001b[0m\u001b[1;32m   2527\u001b[0m     \u001b[0;32mtry\u001b[0m\u001b[0;34m:\u001b[0m\u001b[0;34m\u001b[0m\u001b[0;34m\u001b[0m\u001b[0m\n\u001b[1;32m   2528\u001b[0m         \u001b[0md\u001b[0m \u001b[0;34m=\u001b[0m \u001b[0mdiag\u001b[0m\u001b[0;34m(\u001b[0m\u001b[0mc\u001b[0m\u001b[0;34m)\u001b[0m\u001b[0;34m\u001b[0m\u001b[0;34m\u001b[0m\u001b[0m\n",
            "\u001b[0;32m<__array_function__ internals>\u001b[0m in \u001b[0;36mcov\u001b[0;34m(*args, **kwargs)\u001b[0m\n",
            "\u001b[0;32m/usr/local/lib/python3.6/dist-packages/numpy/lib/function_base.py\u001b[0m in \u001b[0;36mcov\u001b[0;34m(m, y, rowvar, bias, ddof, fweights, aweights)\u001b[0m\n\u001b[1;32m   2429\u001b[0m             \u001b[0mw\u001b[0m \u001b[0;34m*=\u001b[0m \u001b[0maweights\u001b[0m\u001b[0;34m\u001b[0m\u001b[0;34m\u001b[0m\u001b[0m\n\u001b[1;32m   2430\u001b[0m \u001b[0;34m\u001b[0m\u001b[0m\n\u001b[0;32m-> 2431\u001b[0;31m     \u001b[0mavg\u001b[0m\u001b[0;34m,\u001b[0m \u001b[0mw_sum\u001b[0m \u001b[0;34m=\u001b[0m \u001b[0maverage\u001b[0m\u001b[0;34m(\u001b[0m\u001b[0mX\u001b[0m\u001b[0;34m,\u001b[0m \u001b[0maxis\u001b[0m\u001b[0;34m=\u001b[0m\u001b[0;36m1\u001b[0m\u001b[0;34m,\u001b[0m \u001b[0mweights\u001b[0m\u001b[0;34m=\u001b[0m\u001b[0mw\u001b[0m\u001b[0;34m,\u001b[0m \u001b[0mreturned\u001b[0m\u001b[0;34m=\u001b[0m\u001b[0;32mTrue\u001b[0m\u001b[0;34m)\u001b[0m\u001b[0;34m\u001b[0m\u001b[0;34m\u001b[0m\u001b[0m\n\u001b[0m\u001b[1;32m   2432\u001b[0m     \u001b[0mw_sum\u001b[0m \u001b[0;34m=\u001b[0m \u001b[0mw_sum\u001b[0m\u001b[0;34m[\u001b[0m\u001b[0;36m0\u001b[0m\u001b[0;34m]\u001b[0m\u001b[0;34m\u001b[0m\u001b[0;34m\u001b[0m\u001b[0m\n\u001b[1;32m   2433\u001b[0m \u001b[0;34m\u001b[0m\u001b[0m\n",
            "\u001b[0;32m<__array_function__ internals>\u001b[0m in \u001b[0;36maverage\u001b[0;34m(*args, **kwargs)\u001b[0m\n",
            "\u001b[0;32m/usr/local/lib/python3.6/dist-packages/numpy/lib/function_base.py\u001b[0m in \u001b[0;36maverage\u001b[0;34m(a, axis, weights, returned)\u001b[0m\n\u001b[1;32m    391\u001b[0m \u001b[0;34m\u001b[0m\u001b[0m\n\u001b[1;32m    392\u001b[0m     \u001b[0;32mif\u001b[0m \u001b[0mweights\u001b[0m \u001b[0;32mis\u001b[0m \u001b[0;32mNone\u001b[0m\u001b[0;34m:\u001b[0m\u001b[0;34m\u001b[0m\u001b[0;34m\u001b[0m\u001b[0m\n\u001b[0;32m--> 393\u001b[0;31m         \u001b[0mavg\u001b[0m \u001b[0;34m=\u001b[0m \u001b[0ma\u001b[0m\u001b[0;34m.\u001b[0m\u001b[0mmean\u001b[0m\u001b[0;34m(\u001b[0m\u001b[0maxis\u001b[0m\u001b[0;34m)\u001b[0m\u001b[0;34m\u001b[0m\u001b[0;34m\u001b[0m\u001b[0m\n\u001b[0m\u001b[1;32m    394\u001b[0m         \u001b[0mscl\u001b[0m \u001b[0;34m=\u001b[0m \u001b[0mavg\u001b[0m\u001b[0;34m.\u001b[0m\u001b[0mdtype\u001b[0m\u001b[0;34m.\u001b[0m\u001b[0mtype\u001b[0m\u001b[0;34m(\u001b[0m\u001b[0ma\u001b[0m\u001b[0;34m.\u001b[0m\u001b[0msize\u001b[0m\u001b[0;34m/\u001b[0m\u001b[0mavg\u001b[0m\u001b[0;34m.\u001b[0m\u001b[0msize\u001b[0m\u001b[0;34m)\u001b[0m\u001b[0;34m\u001b[0m\u001b[0;34m\u001b[0m\u001b[0m\n\u001b[1;32m    395\u001b[0m     \u001b[0;32melse\u001b[0m\u001b[0;34m:\u001b[0m\u001b[0;34m\u001b[0m\u001b[0;34m\u001b[0m\u001b[0m\n",
            "\u001b[0;32m/usr/local/lib/python3.6/dist-packages/numpy/core/_methods.py\u001b[0m in \u001b[0;36m_mean\u001b[0;34m(a, axis, dtype, out, keepdims)\u001b[0m\n\u001b[1;32m    152\u001b[0m     \u001b[0;32mif\u001b[0m \u001b[0misinstance\u001b[0m\u001b[0;34m(\u001b[0m\u001b[0mret\u001b[0m\u001b[0;34m,\u001b[0m \u001b[0mmu\u001b[0m\u001b[0;34m.\u001b[0m\u001b[0mndarray\u001b[0m\u001b[0;34m)\u001b[0m\u001b[0;34m:\u001b[0m\u001b[0;34m\u001b[0m\u001b[0;34m\u001b[0m\u001b[0m\n\u001b[1;32m    153\u001b[0m         ret = um.true_divide(\n\u001b[0;32m--> 154\u001b[0;31m                 ret, rcount, out=ret, casting='unsafe', subok=False)\n\u001b[0m\u001b[1;32m    155\u001b[0m         \u001b[0;32mif\u001b[0m \u001b[0mis_float16_result\u001b[0m \u001b[0;32mand\u001b[0m \u001b[0mout\u001b[0m \u001b[0;32mis\u001b[0m \u001b[0;32mNone\u001b[0m\u001b[0;34m:\u001b[0m\u001b[0;34m\u001b[0m\u001b[0;34m\u001b[0m\u001b[0m\n\u001b[1;32m    156\u001b[0m             \u001b[0mret\u001b[0m \u001b[0;34m=\u001b[0m \u001b[0marr\u001b[0m\u001b[0;34m.\u001b[0m\u001b[0mdtype\u001b[0m\u001b[0;34m.\u001b[0m\u001b[0mtype\u001b[0m\u001b[0;34m(\u001b[0m\u001b[0mret\u001b[0m\u001b[0;34m)\u001b[0m\u001b[0;34m\u001b[0m\u001b[0;34m\u001b[0m\u001b[0m\n",
            "\u001b[0;31mTypeError\u001b[0m: unsupported operand type(s) for /: 'method' and 'int'"
          ]
        }
      ]
    },
    {
      "cell_type": "code",
      "metadata": {
        "id": "uB4SR6NC1qG3",
        "outputId": "da7fd052-2b42-4e08-f884-c4340c89e2b3",
        "colab": {
          "base_uri": "https://localhost:8080/",
          "height": 163
        }
      },
      "source": [
        "sells.fillna(0,inplace=True)#заполнить наны и посчитать корреляцию"
      ],
      "execution_count": null,
      "outputs": [
        {
          "output_type": "error",
          "ename": "AttributeError",
          "evalue": "ignored",
          "traceback": [
            "\u001b[0;31m---------------------------------------------------------------------------\u001b[0m",
            "\u001b[0;31mAttributeError\u001b[0m                            Traceback (most recent call last)",
            "\u001b[0;32m<ipython-input-108-167a99c935e9>\u001b[0m in \u001b[0;36m<module>\u001b[0;34m()\u001b[0m\n\u001b[0;32m----> 1\u001b[0;31m \u001b[0msells\u001b[0m\u001b[0;34m.\u001b[0m\u001b[0mfillna\u001b[0m\u001b[0;34m(\u001b[0m\u001b[0;36m0\u001b[0m\u001b[0;34m,\u001b[0m\u001b[0minplace\u001b[0m\u001b[0;34m=\u001b[0m\u001b[0;32mTrue\u001b[0m\u001b[0;34m)\u001b[0m\u001b[0;34m\u001b[0m\u001b[0;34m\u001b[0m\u001b[0m\n\u001b[0m",
            "\u001b[0;31mAttributeError\u001b[0m: 'function' object has no attribute 'fillna'"
          ]
        }
      ]
    },
    {
      "cell_type": "code",
      "metadata": {
        "id": "F-33cr_I14sy"
      },
      "source": [
        "plt.hist(pharma)"
      ],
      "execution_count": null,
      "outputs": []
    },
    {
      "cell_type": "markdown",
      "metadata": {
        "id": "xXfussQf4oSN"
      },
      "source": [
        ""
      ]
    },
    {
      "cell_type": "code",
      "metadata": {
        "id": "ZRnBdJs85pFg",
        "outputId": "860018d7-cc5d-41b2-9a11-21cebfdbd42c",
        "colab": {
          "base_uri": "https://localhost:8080/",
          "height": 366
        }
      },
      "source": [
        "pharma.head(3)"
      ],
      "execution_count": null,
      "outputs": [
        {
          "output_type": "execute_result",
          "data": {
            "text/html": [
              "<div>\n",
              "<style scoped>\n",
              "    .dataframe tbody tr th:only-of-type {\n",
              "        vertical-align: middle;\n",
              "    }\n",
              "\n",
              "    .dataframe tbody tr th {\n",
              "        vertical-align: top;\n",
              "    }\n",
              "\n",
              "    .dataframe thead th {\n",
              "        text-align: right;\n",
              "    }\n",
              "</style>\n",
              "<table border=\"1\" class=\"dataframe\">\n",
              "  <thead>\n",
              "    <tr style=\"text-align: right;\">\n",
              "      <th></th>\n",
              "      <th>ActivityID_CRM</th>\n",
              "      <th>EventType_CRM</th>\n",
              "      <th>VisitNumberClient_CRM</th>\n",
              "      <th>StartTime_CRM</th>\n",
              "      <th>EndTime_CRM</th>\n",
              "      <th>UniqueId_CRM</th>\n",
              "      <th>BusinessUnit_CRM</th>\n",
              "      <th>Team_CRM</th>\n",
              "      <th>SLM_AgentId_CRM</th>\n",
              "      <th>FLM_AgentId_CRM</th>\n",
              "      <th>MR_AgentId_CRM</th>\n",
              "      <th>CompanyID_CRM</th>\n",
              "      <th>ClientID_CRM</th>\n",
              "      <th>PersonID_CRM</th>\n",
              "      <th>Speciality_CRM</th>\n",
              "      <th>TargetGroup_CRM</th>\n",
              "      <th>TargetGroupAddon_CRM</th>\n",
              "      <th>Category_CRM</th>\n",
              "      <th>CompanyType_CRM</th>\n",
              "      <th>IsCompleted</th>\n",
              "      <th>IsDoubleCall</th>\n",
              "      <th>BrandId_CLM</th>\n",
              "      <th>BrandName_CLM</th>\n",
              "      <th>BrandDuration_CLM</th>\n",
              "      <th>BrandResult_CRM</th>\n",
              "      <th>Latitude</th>\n",
              "      <th>Longitude</th>\n",
              "      <th>Accuracy</th>\n",
              "      <th>LocationTime</th>\n",
              "    </tr>\n",
              "  </thead>\n",
              "  <tbody>\n",
              "    <tr>\n",
              "      <th>0</th>\n",
              "      <td>5365971</td>\n",
              "      <td>Визит</td>\n",
              "      <td>1.0</td>\n",
              "      <td>2019-12-04 14:00:00</td>\n",
              "      <td>2019-12-04 14:10:00</td>\n",
              "      <td>ACT-c6cb9b19-bdc2-4b7e-b6fc-375a1784f874</td>\n",
              "      <td>OTC</td>\n",
              "      <td>OTC-1</td>\n",
              "      <td>3586.0</td>\n",
              "      <td>139.0</td>\n",
              "      <td>146</td>\n",
              "      <td>49996.0</td>\n",
              "      <td>58769.0</td>\n",
              "      <td>72686.0</td>\n",
              "      <td>Акушерство и гинекология</td>\n",
              "      <td>Гинекологи</td>\n",
              "      <td>NaN</td>\n",
              "      <td>A</td>\n",
              "      <td>Консультация</td>\n",
              "      <td>1</td>\n",
              "      <td>0.0</td>\n",
              "      <td>65.0</td>\n",
              "      <td>Фемибион 2</td>\n",
              "      <td>61.0</td>\n",
              "      <td>10.0</td>\n",
              "      <td>52.2644</td>\n",
              "      <td>104.3125</td>\n",
              "      <td>16.374</td>\n",
              "      <td>2019-12-04 14:09:22</td>\n",
              "    </tr>\n",
              "    <tr>\n",
              "      <th>1</th>\n",
              "      <td>5365979</td>\n",
              "      <td>Визит</td>\n",
              "      <td>1.0</td>\n",
              "      <td>2019-12-04 09:30:00</td>\n",
              "      <td>2019-12-04 09:40:00</td>\n",
              "      <td>ACT-50551d82-5928-4d96-8c96-d82e6bea064a</td>\n",
              "      <td>OTC</td>\n",
              "      <td>OTC-1</td>\n",
              "      <td>3586.0</td>\n",
              "      <td>139.0</td>\n",
              "      <td>146</td>\n",
              "      <td>15293.0</td>\n",
              "      <td>90742.0</td>\n",
              "      <td>113187.0</td>\n",
              "      <td>Оториноларингология</td>\n",
              "      <td>ЛОР-врачи</td>\n",
              "      <td>NaN</td>\n",
              "      <td>A</td>\n",
              "      <td>Поликлиника</td>\n",
              "      <td>1</td>\n",
              "      <td>0.0</td>\n",
              "      <td>53.0</td>\n",
              "      <td>Аллервэй</td>\n",
              "      <td>102.0</td>\n",
              "      <td>6.0</td>\n",
              "      <td>52.2643</td>\n",
              "      <td>104.3124</td>\n",
              "      <td>16.648</td>\n",
              "      <td>2019-12-04 09:48:20</td>\n",
              "    </tr>\n",
              "    <tr>\n",
              "      <th>2</th>\n",
              "      <td>5365981</td>\n",
              "      <td>Визит</td>\n",
              "      <td>1.0</td>\n",
              "      <td>2019-12-05 16:30:00</td>\n",
              "      <td>2019-12-05 16:40:00</td>\n",
              "      <td>ACT-9a378672-e2e7-40c9-8f6e-bb37fb947253</td>\n",
              "      <td>OTC</td>\n",
              "      <td>OTC-1</td>\n",
              "      <td>3586.0</td>\n",
              "      <td>139.0</td>\n",
              "      <td>146</td>\n",
              "      <td>63666.0</td>\n",
              "      <td>1469512.0</td>\n",
              "      <td>227237.0</td>\n",
              "      <td>Акушерство и гинекология</td>\n",
              "      <td>Гинекологи</td>\n",
              "      <td>NaN</td>\n",
              "      <td>A</td>\n",
              "      <td>Консультация</td>\n",
              "      <td>1</td>\n",
              "      <td>1.0</td>\n",
              "      <td>37.0</td>\n",
              "      <td>Фемибион</td>\n",
              "      <td>25.0</td>\n",
              "      <td>NaN</td>\n",
              "      <td>52.2573</td>\n",
              "      <td>104.3444</td>\n",
              "      <td>17.080</td>\n",
              "      <td>2019-12-05 17:11:24</td>\n",
              "    </tr>\n",
              "  </tbody>\n",
              "</table>\n",
              "</div>"
            ],
            "text/plain": [
              "   ActivityID_CRM EventType_CRM  ...  Accuracy        LocationTime\n",
              "0         5365971         Визит  ...    16.374 2019-12-04 14:09:22\n",
              "1         5365979         Визит  ...    16.648 2019-12-04 09:48:20\n",
              "2         5365981         Визит  ...    17.080 2019-12-05 17:11:24\n",
              "\n",
              "[3 rows x 29 columns]"
            ]
          },
          "metadata": {
            "tags": []
          },
          "execution_count": 111
        }
      ]
    },
    {
      "cell_type": "code",
      "metadata": {
        "id": "ADWXdRyD8E4L"
      },
      "source": [
        ""
      ],
      "execution_count": null,
      "outputs": []
    }
  ]
}